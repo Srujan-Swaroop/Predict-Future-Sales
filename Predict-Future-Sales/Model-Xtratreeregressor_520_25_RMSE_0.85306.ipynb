{
 "cells": [
  {
   "cell_type": "code",
   "execution_count": 1,
   "metadata": {},
   "outputs": [
    {
     "name": "stderr",
     "output_type": "stream",
     "text": [
      "Using TensorFlow backend.\n"
     ]
    }
   ],
   "source": [
    "import numpy as np \n",
    "import pandas as pd \n",
    "import lightgbm as lgb\n",
    "import sklearn\n",
    "from sklearn.ensemble import ExtraTreesRegressor\n",
    "from sklearn.externals import joblib\n",
    "from keras import Sequential\n",
    "from keras.layers import LSTM, Dropout, Dense\n",
    "from sklearn.linear_model import LinearRegression, SGDRegressor\n",
    "from sklearn.metrics import mean_squared_error\n",
    "from sklearn import preprocessing \n",
    "from xgboost import XGBRegressor, plot_importance\n",
    "from matplotlib import pyplot\n",
    "import time"
   ]
  },
  {
   "cell_type": "code",
   "execution_count": 2,
   "metadata": {},
   "outputs": [],
   "source": [
    "from datetime import datetime\n",
    "parser = lambda date: pd.to_datetime(date, format='%d.%m.%Y')\n",
    "train = pd.read_csv('processed_train.csv',parse_dates=['date'], date_parser=parser)\n",
    "test  = pd.read_csv('processed_test.csv',parse_dates=['date'], date_parser=parser)"
   ]
  },
  {
   "cell_type": "code",
   "execution_count": 3,
   "metadata": {},
   "outputs": [
    {
     "name": "stderr",
     "output_type": "stream",
     "text": [
      "C:\\Users\\Siddu\\Miniconda3\\lib\\site-packages\\ipykernel_launcher.py:15: SettingWithCopyWarning: \n",
      "A value is trying to be set on a copy of a slice from a DataFrame.\n",
      "Try using .loc[row_indexer,col_indexer] = value instead\n",
      "\n",
      "See the caveats in the documentation: http://pandas.pydata.org/pandas-docs/stable/indexing.html#indexing-view-versus-copy\n",
      "  from ipykernel import kernelapp as app\n"
     ]
    }
   ],
   "source": [
    "#features\n",
    "df = train\n",
    "df['day']=df['date'].apply(lambda x: x.strftime('%d'))\n",
    "df['day']=df['day'].astype('int64')\n",
    "df['month']=df['date'].apply(lambda x: x.strftime('%m'))\n",
    "df['month']=df['month'].astype('int64')\n",
    "df['year']=df['date'].apply(lambda x: x.strftime('%Y'))\n",
    "df['year']=df['year'].astype('int64')\n",
    "df = df[['day','month','year','item_id', 'shop_id','item_price','item_cnt_day']]\n",
    "#     df = df.pivot_table(index=['item_id', 'shop_id'], columns='date', values='item_cnt_day', fill_value=0).reset_index()\n",
    "#     count=df.iloc[:,2:]\n",
    "#     df['total']=count.sum(axis=1)\n",
    "data=df\n",
    "#data = pd.merge(val, df, on=['item_id', 'shop_id'], how='left').fillna(0)\n",
    "data['item_id'] = np.log1p(data['item_id'])"
   ]
  },
  {
   "cell_type": "code",
   "execution_count": 4,
   "metadata": {},
   "outputs": [],
   "source": [
    "train_date_info = data"
   ]
  },
  {
   "cell_type": "code",
   "execution_count": 5,
   "metadata": {},
   "outputs": [],
   "source": [
    "y_train_normal = train_date_info['item_cnt_day']\n",
    "x_train_normal = train_date_info.drop(labels=['item_cnt_day'], axis=1)"
   ]
  },
  {
   "cell_type": "code",
   "execution_count": 6,
   "metadata": {},
   "outputs": [],
   "source": [
    "x_train_val = x_train_normal[-100:]\n",
    "y_train_val = y_train_normal[-100:]"
   ]
  },
  {
   "cell_type": "code",
   "execution_count": 7,
   "metadata": {},
   "outputs": [],
   "source": [
    "def rmse(predictions, targets):\n",
    "    return np.sqrt(np.mean((predictions - targets) ** 2))"
   ]
  },
  {
   "cell_type": "code",
   "execution_count": 8,
   "metadata": {},
   "outputs": [],
   "source": [
    "def TreeRegressor_model(x_train, y_train):\n",
    "    reg = ExtraTreesRegressor(n_estimators=520, max_depth=25,random_state=50)\n",
    "    #reg = ExtraTreesRegressor()\n",
    "    reg.fit(x_train, y_train)\n",
    "    y_pre = reg.predict(x_train)\n",
    "    score = np.sqrt(mean_squared_error(y_train, y_pre))\n",
    "    print('RMSE cliped:', np.sqrt(mean_squared_error(y_train.clip(0., 20.), y_pre.clip(0., 20.))))\n",
    "    return reg"
   ]
  },
  {
   "cell_type": "code",
   "execution_count": 9,
   "metadata": {},
   "outputs": [],
   "source": [
    "def light_gbm_model(x_train, y_train):\n",
    "    lgb_params = {\n",
    "        'feature_fraction': 1,\n",
    "        'metric': 'rmse',\n",
    "        'min_data_in_leaf': 16,\n",
    "        'bagging_fraction': 0.85,\n",
    "        'learning_rate': 0.03,\n",
    "        'objective': 'mse',\n",
    "        'bagging_seed': 2 ** 7,\n",
    "        'num_leaves': 32,\n",
    "        'bagging_freq': 3,\n",
    "        'verbose': 0\n",
    "    }\n",
    "    estimator = lgb.train(lgb_params, lgb.Dataset(x_train, label=y_train), 300)\n",
    "    y_pre = estimator.predict(x_train)\n",
    "    print('RMSE cliped:', np.sqrt(mean_squared_error(y_train.clip(0., 20.), y_pre.clip(0., 20.))))\n",
    "    return estimator"
   ]
  },
  {
   "cell_type": "code",
   "execution_count": 10,
   "metadata": {},
   "outputs": [],
   "source": [
    "def linear_model(x_train, y_train):\n",
    "    lr = LinearRegression()\n",
    "    lr.fit(x_train, y_train)\n",
    "    y_pre = lr.predict(x_train)\n",
    "    print('RMSE cliped:', np.sqrt(mean_squared_error(y_train.clip, y_pre.clip)))\n",
    "    return lr"
   ]
  },
  {
   "cell_type": "code",
   "execution_count": 11,
   "metadata": {},
   "outputs": [],
   "source": [
    "def xgb_model(x_train, y_train, x_train_val, y_train_val):\n",
    "    model = XGBRegressor(\n",
    "        max_depth=8,\n",
    "        n_estimators=1000,\n",
    "        min_child_weight=300,\n",
    "        colsample_bytree=0.9,\n",
    "        subsample=0.9,\n",
    "        eta=0.15,\n",
    "        seed=42)\n",
    "    model.fit(\n",
    "        x_train,\n",
    "        y_train,\n",
    "        eval_metric=\"rmse\",\n",
    "        eval_set=[(x_train, y_train), (x_train_val, y_train_val)],\n",
    "        verbose=True,\n",
    "        early_stopping_rounds=10)\n",
    "    y_pre = model.predict(x_train)\n",
    "    print('RMSE cliped:', np.sqrt(mean_squared_error(y_train.clip(0., 20.), y_pre.clip(0., 20.))))\n",
    "    plot_importance(model)\n",
    "    pyplot.show()\n",
    "    return model"
   ]
  },
  {
   "cell_type": "code",
   "execution_count": 12,
   "metadata": {},
   "outputs": [],
   "source": [
    "def pre_data(data_type, reg, x_test):\n",
    "    if reg is None:\n",
    "        reg = joblib.load('%s/%s_model_weight.model' % (out_path, data_type))\n",
    "    y_pre = reg.predict(x_test)\n",
    "    return y_pre"
   ]
  },
  {
   "cell_type": "code",
   "execution_count": 13,
   "metadata": {
    "scrolled": true
   },
   "outputs": [
    {
     "name": "stdout",
     "output_type": "stream",
     "text": [
      "RMSE cliped: 0.4117675588900876\n"
     ]
    },
    {
     "data": {
      "text/plain": [
       "4753.8684186935425"
      ]
     },
     "execution_count": 13,
     "metadata": {},
     "output_type": "execute_result"
    }
   ],
   "source": [
    "ts = time.time()\n",
    "#xgb_model = xgb_model(x_train_normal[:-100], y_train_normal[:-100], x_train_val, y_train_val)\n",
    "# linear_model = linear_model(x_train_normal, y_train_normal)\n",
    "#light_gbm_model = light_gbm_model(x_train_normal, y_train_normal)\n",
    "tree_model = TreeRegressor_model(x_train_normal, y_train_normal)\n",
    "time.time() - ts"
   ]
  },
  {
   "cell_type": "code",
   "execution_count": 14,
   "metadata": {},
   "outputs": [
    {
     "data": {
      "text/html": [
       "<div>\n",
       "<style scoped>\n",
       "    .dataframe tbody tr th:only-of-type {\n",
       "        vertical-align: middle;\n",
       "    }\n",
       "\n",
       "    .dataframe tbody tr th {\n",
       "        vertical-align: top;\n",
       "    }\n",
       "\n",
       "    .dataframe thead th {\n",
       "        text-align: right;\n",
       "    }\n",
       "</style>\n",
       "<table border=\"1\" class=\"dataframe\">\n",
       "  <thead>\n",
       "    <tr style=\"text-align: right;\">\n",
       "      <th></th>\n",
       "      <th>date</th>\n",
       "      <th>date_block_num</th>\n",
       "      <th>shop_id</th>\n",
       "      <th>item_id</th>\n",
       "      <th>item_price</th>\n",
       "      <th>ID</th>\n",
       "    </tr>\n",
       "  </thead>\n",
       "  <tbody>\n",
       "    <tr>\n",
       "      <th>0</th>\n",
       "      <td>2015-02-06</td>\n",
       "      <td>25</td>\n",
       "      <td>31</td>\n",
       "      <td>11208</td>\n",
       "      <td>699.0</td>\n",
       "      <td>2472142</td>\n",
       "    </tr>\n",
       "    <tr>\n",
       "      <th>1</th>\n",
       "      <td>2013-11-21</td>\n",
       "      <td>10</td>\n",
       "      <td>31</td>\n",
       "      <td>19525</td>\n",
       "      <td>149.0</td>\n",
       "      <td>1044690</td>\n",
       "    </tr>\n",
       "    <tr>\n",
       "      <th>2</th>\n",
       "      <td>2015-01-03</td>\n",
       "      <td>24</td>\n",
       "      <td>42</td>\n",
       "      <td>16169</td>\n",
       "      <td>299.0</td>\n",
       "      <td>2367559</td>\n",
       "    </tr>\n",
       "    <tr>\n",
       "      <th>3</th>\n",
       "      <td>2014-07-18</td>\n",
       "      <td>18</td>\n",
       "      <td>42</td>\n",
       "      <td>2737</td>\n",
       "      <td>199.0</td>\n",
       "      <td>1793501</td>\n",
       "    </tr>\n",
       "    <tr>\n",
       "      <th>4</th>\n",
       "      <td>2014-04-13</td>\n",
       "      <td>15</td>\n",
       "      <td>2</td>\n",
       "      <td>15229</td>\n",
       "      <td>1199.0</td>\n",
       "      <td>1585639</td>\n",
       "    </tr>\n",
       "  </tbody>\n",
       "</table>\n",
       "</div>"
      ],
      "text/plain": [
       "        date  date_block_num  shop_id  item_id  item_price       ID\n",
       "0 2015-02-06              25       31    11208       699.0  2472142\n",
       "1 2013-11-21              10       31    19525       149.0  1044690\n",
       "2 2015-01-03              24       42    16169       299.0  2367559\n",
       "3 2014-07-18              18       42     2737       199.0  1793501\n",
       "4 2014-04-13              15        2    15229      1199.0  1585639"
      ]
     },
     "execution_count": 14,
     "metadata": {},
     "output_type": "execute_result"
    }
   ],
   "source": [
    "test.head()"
   ]
  },
  {
   "cell_type": "code",
   "execution_count": 15,
   "metadata": {},
   "outputs": [
    {
     "name": "stderr",
     "output_type": "stream",
     "text": [
      "C:\\Users\\Siddu\\Miniconda3\\lib\\site-packages\\ipykernel_launcher.py:11: SettingWithCopyWarning: \n",
      "A value is trying to be set on a copy of a slice from a DataFrame.\n",
      "Try using .loc[row_indexer,col_indexer] = value instead\n",
      "\n",
      "See the caveats in the documentation: http://pandas.pydata.org/pandas-docs/stable/indexing.html#indexing-view-versus-copy\n",
      "  # This is added back by InteractiveShellApp.init_path()\n"
     ]
    },
    {
     "data": {
      "text/html": [
       "<div>\n",
       "<style scoped>\n",
       "    .dataframe tbody tr th:only-of-type {\n",
       "        vertical-align: middle;\n",
       "    }\n",
       "\n",
       "    .dataframe tbody tr th {\n",
       "        vertical-align: top;\n",
       "    }\n",
       "\n",
       "    .dataframe thead th {\n",
       "        text-align: right;\n",
       "    }\n",
       "</style>\n",
       "<table border=\"1\" class=\"dataframe\">\n",
       "  <thead>\n",
       "    <tr style=\"text-align: right;\">\n",
       "      <th></th>\n",
       "      <th>date</th>\n",
       "      <th>date_block_num</th>\n",
       "      <th>shop_id</th>\n",
       "      <th>item_id</th>\n",
       "      <th>item_price</th>\n",
       "      <th>ID</th>\n",
       "      <th>day</th>\n",
       "      <th>month</th>\n",
       "      <th>year</th>\n",
       "    </tr>\n",
       "  </thead>\n",
       "  <tbody>\n",
       "    <tr>\n",
       "      <th>0</th>\n",
       "      <td>2015-02-06</td>\n",
       "      <td>25</td>\n",
       "      <td>31</td>\n",
       "      <td>11208</td>\n",
       "      <td>699.0</td>\n",
       "      <td>2472142</td>\n",
       "      <td>6</td>\n",
       "      <td>2</td>\n",
       "      <td>2015</td>\n",
       "    </tr>\n",
       "    <tr>\n",
       "      <th>1</th>\n",
       "      <td>2013-11-21</td>\n",
       "      <td>10</td>\n",
       "      <td>31</td>\n",
       "      <td>19525</td>\n",
       "      <td>149.0</td>\n",
       "      <td>1044690</td>\n",
       "      <td>21</td>\n",
       "      <td>11</td>\n",
       "      <td>2013</td>\n",
       "    </tr>\n",
       "    <tr>\n",
       "      <th>2</th>\n",
       "      <td>2015-01-03</td>\n",
       "      <td>24</td>\n",
       "      <td>42</td>\n",
       "      <td>16169</td>\n",
       "      <td>299.0</td>\n",
       "      <td>2367559</td>\n",
       "      <td>3</td>\n",
       "      <td>1</td>\n",
       "      <td>2015</td>\n",
       "    </tr>\n",
       "    <tr>\n",
       "      <th>3</th>\n",
       "      <td>2014-07-18</td>\n",
       "      <td>18</td>\n",
       "      <td>42</td>\n",
       "      <td>2737</td>\n",
       "      <td>199.0</td>\n",
       "      <td>1793501</td>\n",
       "      <td>18</td>\n",
       "      <td>7</td>\n",
       "      <td>2014</td>\n",
       "    </tr>\n",
       "    <tr>\n",
       "      <th>4</th>\n",
       "      <td>2014-04-13</td>\n",
       "      <td>15</td>\n",
       "      <td>2</td>\n",
       "      <td>15229</td>\n",
       "      <td>1199.0</td>\n",
       "      <td>1585639</td>\n",
       "      <td>13</td>\n",
       "      <td>4</td>\n",
       "      <td>2014</td>\n",
       "    </tr>\n",
       "  </tbody>\n",
       "</table>\n",
       "</div>"
      ],
      "text/plain": [
       "        date  date_block_num  shop_id  item_id  item_price       ID  day  \\\n",
       "0 2015-02-06              25       31    11208       699.0  2472142    6   \n",
       "1 2013-11-21              10       31    19525       149.0  1044690   21   \n",
       "2 2015-01-03              24       42    16169       299.0  2367559    3   \n",
       "3 2014-07-18              18       42     2737       199.0  1793501   18   \n",
       "4 2014-04-13              15        2    15229      1199.0  1585639   13   \n",
       "\n",
       "   month  year  \n",
       "0      2  2015  \n",
       "1     11  2013  \n",
       "2      1  2015  \n",
       "3      7  2014  \n",
       "4      4  2014  "
      ]
     },
     "execution_count": 15,
     "metadata": {},
     "output_type": "execute_result"
    }
   ],
   "source": [
    "df = test\n",
    "df['day']=df['date'].apply(lambda x:x.strftime('%d'))\n",
    "df['day']=df['day'].astype('int64')\n",
    "df['month']=df['date'].apply(lambda x: x.strftime('%m'))\n",
    "df['month']=df['month'].astype('int64')\n",
    "df['year']=df['date'].apply(lambda x: x.strftime('%Y'))\n",
    "df['year']=df['year'].astype('int64')\n",
    "df = df[['day','month','year','item_id', 'shop_id','item_price']]\n",
    "data=df\n",
    "#data = pd.merge(val, df, on=['item_id', 'shop_id'], how='left').fillna(0)\n",
    "data['item_id'] = np.log1p(data['item_id'])\n",
    "test_x = data\n",
    "# test_x.columns = np.append(['shop_id', 'item_id'],np.arange(0, 36, 1))\n",
    "test_y_1 = pre_data('normal', tree_model, test_x)\n",
    "# test_y_2 = pre_data('light_gbm', light_gbm_model, test_x)\n",
    "# test_y_3 = pre_data('linear', linear_model, test_x)\n",
    "#test_y_4 = pre_data('xgb', xgb_model, test_x)\n",
    "test_y = test_y_1\n",
    "test.head()"
   ]
  },
  {
   "cell_type": "code",
   "execution_count": 16,
   "metadata": {},
   "outputs": [],
   "source": [
    "test['item_cnt_day'] = test_y\n",
    "test[['ID', 'item_cnt_day']].to_csv('submission_Xtra regressor_520-25.csv', index=False)"
   ]
  },
  {
   "cell_type": "code",
   "execution_count": null,
   "metadata": {},
   "outputs": [],
   "source": []
  },
  {
   "cell_type": "code",
   "execution_count": null,
   "metadata": {},
   "outputs": [],
   "source": []
  },
  {
   "cell_type": "code",
   "execution_count": null,
   "metadata": {},
   "outputs": [],
   "source": []
  },
  {
   "cell_type": "code",
   "execution_count": null,
   "metadata": {},
   "outputs": [],
   "source": []
  },
  {
   "cell_type": "code",
   "execution_count": null,
   "metadata": {},
   "outputs": [],
   "source": []
  }
 ],
 "metadata": {
  "kernelspec": {
   "display_name": "Python 3",
   "language": "python",
   "name": "python3"
  },
  "language_info": {
   "codemirror_mode": {
    "name": "ipython",
    "version": 3
   },
   "file_extension": ".py",
   "mimetype": "text/x-python",
   "name": "python",
   "nbconvert_exporter": "python",
   "pygments_lexer": "ipython3",
   "version": "3.6.6"
  }
 },
 "nbformat": 4,
 "nbformat_minor": 2
}
