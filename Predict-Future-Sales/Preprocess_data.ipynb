{
 "cells": [
  {
   "cell_type": "code",
   "execution_count": 27,
   "metadata": {},
   "outputs": [],
   "source": [
    "import pandas as pd\n",
    "import matplotlib.pyplot as plt\n",
    "import seaborn as sns\n",
    "import numpy as np\n",
    "import numpy.random as nr\n",
    "import math\n",
    "import os"
   ]
  },
  {
   "cell_type": "code",
   "execution_count": 28,
   "metadata": {},
   "outputs": [
    {
     "name": "stdout",
     "output_type": "stream",
     "text": [
      "         date  date_block_num  shop_id  item_id  item_price  item_cnt_day  \\\n",
      "0  28.12.2014              23       25    12179  959.000000           NaN   \n",
      "1  23.04.2014              15       25    14042  149.000000           1.0   \n",
      "2  03.03.2014              14       12    11373  106.615385          13.0   \n",
      "\n",
      "        ID  \n",
      "0  2317582  \n",
      "1  1576962  \n",
      "2  1547382  \n",
      "<class 'pandas.core.frame.DataFrame'>\n",
      "RangeIndex: 2925849 entries, 0 to 2925848\n",
      "Data columns (total 7 columns):\n",
      "date              object\n",
      "date_block_num    int64\n",
      "shop_id           int64\n",
      "item_id           int64\n",
      "item_price        float64\n",
      "item_cnt_day      float64\n",
      "ID                int64\n",
      "dtypes: float64(2), int64(4), object(1)\n",
      "memory usage: 156.3+ MB\n"
     ]
    }
   ],
   "source": [
    "%matplotlib inline\n",
    "data = pd.read_csv('../input/train.csv')\n",
    "print(data.head(3))\n",
    "data.info()"
   ]
  },
  {
   "cell_type": "code",
   "execution_count": 29,
   "metadata": {},
   "outputs": [
    {
     "data": {
      "text/plain": [
       "-1.0     7221\n",
       "-2.0       78\n",
       "-3.0       13\n",
       "-5.0        4\n",
       "-4.0        3\n",
       "-6.0        2\n",
       "-22.0       1\n",
       "-9.0        1\n",
       "-16.0       1\n",
       "Name: item_cnt_day, dtype: int64"
      ]
     },
     "execution_count": 29,
     "metadata": {},
     "output_type": "execute_result"
    }
   ],
   "source": [
    "# Check for negative item_cnt_day \n",
    "data[data['item_cnt_day']<0]['item_cnt_day'].value_counts()"
   ]
  },
  {
   "cell_type": "code",
   "execution_count": 30,
   "metadata": {},
   "outputs": [
    {
     "name": "stdout",
     "output_type": "stream",
     "text": [
      "<class 'pandas.core.frame.DataFrame'>\n",
      "Int64Index: 2918524 entries, 1 to 2925848\n",
      "Data columns (total 7 columns):\n",
      "date              object\n",
      "date_block_num    int64\n",
      "shop_id           int64\n",
      "item_id           int64\n",
      "item_price        float64\n",
      "item_cnt_day      float64\n",
      "ID                int64\n",
      "dtypes: float64(2), int64(4), object(1)\n",
      "memory usage: 178.1+ MB\n"
     ]
    }
   ],
   "source": [
    "data_filtered=data.loc[data['item_cnt_day']>0]\n",
    "data_filtered.info()\n",
    "data=data_filtered"
   ]
  },
  {
   "cell_type": "code",
   "execution_count": 31,
   "metadata": {},
   "outputs": [
    {
     "data": {
      "text/plain": [
       "Series([], Name: item_cnt_day, dtype: int64)"
      ]
     },
     "execution_count": 31,
     "metadata": {},
     "output_type": "execute_result"
    }
   ],
   "source": [
    "data[data['item_cnt_day']<0]['item_cnt_day'].value_counts()"
   ]
  },
  {
   "cell_type": "code",
   "execution_count": 32,
   "metadata": {},
   "outputs": [],
   "source": [
    "def drop_duplicate(data, sub_set):\n",
    "    print('Before drop shape:', data.shape)\n",
    "    before = data.shape[0]\n",
    "    data.drop_duplicates(sub_set, keep='first', inplace=True)\n",
    "    data.reset_index(drop=True, inplace=True)\n",
    "    print('After drop shape:', data.shape)\n",
    "    after = data.shape[0]\n",
    "    print('Total Duplicate:', before - after)"
   ]
  },
  {
   "cell_type": "code",
   "execution_count": 33,
   "metadata": {},
   "outputs": [
    {
     "name": "stdout",
     "output_type": "stream",
     "text": [
      "Before drop shape: (2918524, 7)\n",
      "After drop shape: (2918502, 7)\n",
      "Total Duplicate: 22\n",
      "Before drop shape: (10000, 6)\n",
      "After drop shape: (10000, 6)\n",
      "Total Duplicate: 0\n"
     ]
    }
   ],
   "source": [
    "sales = data\n",
    "test = pd.read_csv('../input/test.csv')\n",
    "subset_train = ['date', 'date_block_num', 'shop_id', 'item_id', 'item_cnt_day']\n",
    "subset_test = ['date', 'date_block_num', 'shop_id', 'item_id']\n",
    "drop_duplicate(sales, sub_set=subset_train)\n",
    "drop_duplicate(test, sub_set=subset_test)\n",
    "\n",
    "# unreasonable_data(sales['item_cnt_day'])\n",
    "# unreasonable_data(sales['item_price'])\n",
    "\n",
    "median = sales[(sales.shop_id == 32) & (sales.item_id == 2973) & (sales.date_block_num == 4) & (\n",
    "        sales.item_price > 0)].item_price.median()\n",
    "sales.loc[sales.item_price < 0, 'item_price'] = median\n",
    "# sales['item_cnt_day'] = sales['item_cnt_day'].clip(0, 1000)\n",
    "sales['item_cnt_day'] = sales['item_cnt_day'].clip(0, 20)\n",
    "sales['item_price'] = sales['item_price'].clip(0, 300000)\n",
    "\n",
    "# Якутск Орджоникидзе, 56\n",
    "sales.loc[sales.shop_id == 0, 'shop_id'] = 57\n",
    "test.loc[test.shop_id == 0, 'shop_id'] = 57\n",
    "# Якутск ТЦ \"Центральный\"\n",
    "sales.loc[sales.shop_id == 1, 'shop_id'] = 58\n",
    "test.loc[test.shop_id == 1, 'shop_id'] = 58\n",
    "# Жуковский ул. Чкалова 39м²\n",
    "sales.loc[sales.shop_id == 10, 'shop_id'] = 11\n",
    "test.loc[test.shop_id == 10, 'shop_id'] = 11\n",
    "# =======================\n",
    "# for f in sales.columns: \n",
    "#     if sales[f].dtype=='object': \n",
    "#         lbl = preprocessing.LabelEncoder() \n",
    "#         lbl.fit(list(sales[f].values)) \n",
    "#         sales[f] = lbl.transform(list(sales[f].values))\n",
    "\n",
    "# for f in test.columns: \n",
    "#     if test[f].dtype=='object': \n",
    "#         lbl = preprocessing.LabelEncoder() \n",
    "#         lbl.fit(list(test[f].values)) \n",
    "#         test[f] = lbl.transform(list(test[f].values))"
   ]
  },
  {
   "cell_type": "code",
   "execution_count": 34,
   "metadata": {},
   "outputs": [],
   "source": [
    "sales.to_csv('processed_train.csv', sep=',',index=False)\n",
    "test.to_csv('processed_test.csv', sep=',',index=False)"
   ]
  },
  {
   "cell_type": "code",
   "execution_count": 35,
   "metadata": {},
   "outputs": [
    {
     "data": {
      "text/plain": [
       "Series([], Name: item_cnt_day, dtype: int64)"
      ]
     },
     "execution_count": 35,
     "metadata": {},
     "output_type": "execute_result"
    }
   ],
   "source": [
    "data = pd.read_csv('processed_train.csv')\n",
    "data[data['item_cnt_day']<0]['item_cnt_day'].value_counts()"
   ]
  },
  {
   "cell_type": "code",
   "execution_count": 36,
   "metadata": {},
   "outputs": [
    {
     "data": {
      "text/html": [
       "<div>\n",
       "<style scoped>\n",
       "    .dataframe tbody tr th:only-of-type {\n",
       "        vertical-align: middle;\n",
       "    }\n",
       "\n",
       "    .dataframe tbody tr th {\n",
       "        vertical-align: top;\n",
       "    }\n",
       "\n",
       "    .dataframe thead th {\n",
       "        text-align: right;\n",
       "    }\n",
       "</style>\n",
       "<table border=\"1\" class=\"dataframe\">\n",
       "  <thead>\n",
       "    <tr style=\"text-align: right;\">\n",
       "      <th></th>\n",
       "      <th>date</th>\n",
       "      <th>date_block_num</th>\n",
       "      <th>shop_id</th>\n",
       "      <th>item_id</th>\n",
       "      <th>item_price</th>\n",
       "      <th>item_cnt_day</th>\n",
       "      <th>ID</th>\n",
       "    </tr>\n",
       "  </thead>\n",
       "  <tbody>\n",
       "    <tr>\n",
       "      <th>0</th>\n",
       "      <td>23.04.2014</td>\n",
       "      <td>15</td>\n",
       "      <td>25</td>\n",
       "      <td>14042</td>\n",
       "      <td>149.000000</td>\n",
       "      <td>1.0</td>\n",
       "      <td>1576962</td>\n",
       "    </tr>\n",
       "    <tr>\n",
       "      <th>1</th>\n",
       "      <td>03.03.2014</td>\n",
       "      <td>14</td>\n",
       "      <td>12</td>\n",
       "      <td>11373</td>\n",
       "      <td>106.615385</td>\n",
       "      <td>13.0</td>\n",
       "      <td>1547382</td>\n",
       "    </tr>\n",
       "    <tr>\n",
       "      <th>2</th>\n",
       "      <td>08.12.2013</td>\n",
       "      <td>11</td>\n",
       "      <td>47</td>\n",
       "      <td>12107</td>\n",
       "      <td>599.000000</td>\n",
       "      <td>1.0</td>\n",
       "      <td>1255724</td>\n",
       "    </tr>\n",
       "    <tr>\n",
       "      <th>3</th>\n",
       "      <td>23.01.2015</td>\n",
       "      <td>24</td>\n",
       "      <td>29</td>\n",
       "      <td>3341</td>\n",
       "      <td>2599.000000</td>\n",
       "      <td>1.0</td>\n",
       "      <td>2372492</td>\n",
       "    </tr>\n",
       "    <tr>\n",
       "      <th>4</th>\n",
       "      <td>14.12.2014</td>\n",
       "      <td>23</td>\n",
       "      <td>21</td>\n",
       "      <td>16541</td>\n",
       "      <td>399.000000</td>\n",
       "      <td>1.0</td>\n",
       "      <td>2308797</td>\n",
       "    </tr>\n",
       "  </tbody>\n",
       "</table>\n",
       "</div>"
      ],
      "text/plain": [
       "         date  date_block_num  shop_id  item_id   item_price  item_cnt_day  \\\n",
       "0  23.04.2014              15       25    14042   149.000000           1.0   \n",
       "1  03.03.2014              14       12    11373   106.615385          13.0   \n",
       "2  08.12.2013              11       47    12107   599.000000           1.0   \n",
       "3  23.01.2015              24       29     3341  2599.000000           1.0   \n",
       "4  14.12.2014              23       21    16541   399.000000           1.0   \n",
       "\n",
       "        ID  \n",
       "0  1576962  \n",
       "1  1547382  \n",
       "2  1255724  \n",
       "3  2372492  \n",
       "4  2308797  "
      ]
     },
     "execution_count": 36,
     "metadata": {},
     "output_type": "execute_result"
    }
   ],
   "source": [
    "data.head()"
   ]
  },
  {
   "cell_type": "code",
   "execution_count": 37,
   "metadata": {},
   "outputs": [],
   "source": [
    "test = pd.read_csv('processed_test.csv')"
   ]
  },
  {
   "cell_type": "code",
   "execution_count": 38,
   "metadata": {},
   "outputs": [
    {
     "data": {
      "text/html": [
       "<div>\n",
       "<style scoped>\n",
       "    .dataframe tbody tr th:only-of-type {\n",
       "        vertical-align: middle;\n",
       "    }\n",
       "\n",
       "    .dataframe tbody tr th {\n",
       "        vertical-align: top;\n",
       "    }\n",
       "\n",
       "    .dataframe thead th {\n",
       "        text-align: right;\n",
       "    }\n",
       "</style>\n",
       "<table border=\"1\" class=\"dataframe\">\n",
       "  <thead>\n",
       "    <tr style=\"text-align: right;\">\n",
       "      <th></th>\n",
       "      <th>date</th>\n",
       "      <th>date_block_num</th>\n",
       "      <th>shop_id</th>\n",
       "      <th>item_id</th>\n",
       "      <th>item_price</th>\n",
       "      <th>ID</th>\n",
       "    </tr>\n",
       "  </thead>\n",
       "  <tbody>\n",
       "    <tr>\n",
       "      <th>0</th>\n",
       "      <td>06.02.2015</td>\n",
       "      <td>25</td>\n",
       "      <td>31</td>\n",
       "      <td>11208</td>\n",
       "      <td>699.0</td>\n",
       "      <td>2472142</td>\n",
       "    </tr>\n",
       "    <tr>\n",
       "      <th>1</th>\n",
       "      <td>21.11.2013</td>\n",
       "      <td>10</td>\n",
       "      <td>31</td>\n",
       "      <td>19525</td>\n",
       "      <td>149.0</td>\n",
       "      <td>1044690</td>\n",
       "    </tr>\n",
       "    <tr>\n",
       "      <th>2</th>\n",
       "      <td>03.01.2015</td>\n",
       "      <td>24</td>\n",
       "      <td>42</td>\n",
       "      <td>16169</td>\n",
       "      <td>299.0</td>\n",
       "      <td>2367559</td>\n",
       "    </tr>\n",
       "    <tr>\n",
       "      <th>3</th>\n",
       "      <td>18.07.2014</td>\n",
       "      <td>18</td>\n",
       "      <td>42</td>\n",
       "      <td>2737</td>\n",
       "      <td>199.0</td>\n",
       "      <td>1793501</td>\n",
       "    </tr>\n",
       "    <tr>\n",
       "      <th>4</th>\n",
       "      <td>13.04.2014</td>\n",
       "      <td>15</td>\n",
       "      <td>2</td>\n",
       "      <td>15229</td>\n",
       "      <td>1199.0</td>\n",
       "      <td>1585639</td>\n",
       "    </tr>\n",
       "  </tbody>\n",
       "</table>\n",
       "</div>"
      ],
      "text/plain": [
       "         date  date_block_num  shop_id  item_id  item_price       ID\n",
       "0  06.02.2015              25       31    11208       699.0  2472142\n",
       "1  21.11.2013              10       31    19525       149.0  1044690\n",
       "2  03.01.2015              24       42    16169       299.0  2367559\n",
       "3  18.07.2014              18       42     2737       199.0  1793501\n",
       "4  13.04.2014              15        2    15229      1199.0  1585639"
      ]
     },
     "execution_count": 38,
     "metadata": {},
     "output_type": "execute_result"
    }
   ],
   "source": [
    "test.head()"
   ]
  },
  {
   "cell_type": "code",
   "execution_count": null,
   "metadata": {},
   "outputs": [],
   "source": []
  }
 ],
 "metadata": {
  "kernelspec": {
   "display_name": "Python 3",
   "language": "python",
   "name": "python3"
  },
  "language_info": {
   "codemirror_mode": {
    "name": "ipython",
    "version": 3
   },
   "file_extension": ".py",
   "mimetype": "text/x-python",
   "name": "python",
   "nbconvert_exporter": "python",
   "pygments_lexer": "ipython3",
   "version": "3.6.6"
  }
 },
 "nbformat": 4,
 "nbformat_minor": 2
}
