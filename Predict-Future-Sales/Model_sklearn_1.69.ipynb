{
 "cells": [
  {
   "cell_type": "code",
   "execution_count": 243,
   "metadata": {},
   "outputs": [],
   "source": [
    "import numpy as np  # linear algebra\n",
    "import pandas as pd  # data processing, CSV file I/O (e.g. pd.read_csv)\n",
    "import lightgbm as lgb\n",
    "import sklearn\n",
    "from sklearn.ensemble import ExtraTreesRegressor\n",
    "from sklearn.externals import joblib\n",
    "from keras import Sequential\n",
    "from keras.layers import LSTM, Dropout, Dense\n",
    "from sklearn.linear_model import LinearRegression, SGDRegressor\n",
    "from sklearn.metrics import mean_squared_error\n",
    "from sklearn import preprocessing \n",
    "from xgboost import XGBRegressor, plot_importance\n",
    "from matplotlib import pyplot"
   ]
  },
  {
   "cell_type": "code",
   "execution_count": 244,
   "metadata": {},
   "outputs": [],
   "source": [
    "import os\n",
    "\n",
    "data_path = '../input'\n",
    "# data_path = 'data'\n",
    "out_path = '../input'\n",
    "submission_path = '../input'\n",
    "ver = 6"
   ]
  },
  {
   "cell_type": "code",
   "execution_count": 245,
   "metadata": {},
   "outputs": [],
   "source": [
    "def unreasonable_data(data):\n",
    "    print(\"----------Reasonable of Data----------\")\n",
    "    print(\"Min Value:\", data.min())\n",
    "    print(\"Max Value:\", data.max())\n",
    "    print(\"Average Value:\", data.mean())\n",
    "    print(\"Center Point of Data:\", data.median())\n",
    "    print(data.describe())\n"
   ]
  },
  {
   "cell_type": "code",
   "execution_count": 246,
   "metadata": {},
   "outputs": [],
   "source": [
    "def drop_duplicate(data, sub_set):\n",
    "    print('Before drop shape:', data.shape)\n",
    "    before = data.shape[0]\n",
    "    data.drop_duplicates(sub_set, keep='first', inplace=True)\n",
    "    data.reset_index(drop=True, inplace=True)\n",
    "    print('After drop shape:', data.shape)\n",
    "    after = data.shape[0]\n",
    "    print('Total Duplicate:', before - after)"
   ]
  },
  {
   "cell_type": "code",
   "execution_count": 247,
   "metadata": {},
   "outputs": [],
   "source": [
    "def pre_process_data_3():\n",
    "    sales = pd.read_csv('%s/train.csv' % data_path, parse_dates=['date'], infer_datetime_format=True,dayfirst=True)\n",
    "    val = pd.read_csv('%s/test.csv' % data_path)\n",
    "    subset_train = ['date', 'date_block_num', 'shop_id', 'item_id', 'item_cnt_day']\n",
    "    subset_test = ['date', 'date_block_num', 'shop_id', 'item_id']\n",
    "    drop_duplicate(sales, sub_set=subset_train)\n",
    "    drop_duplicate(val, sub_set=subset_test)\n",
    "\n",
    "    # unreasonable_data(sales['item_cnt_day'])\n",
    "    # unreasonable_data(sales['item_price'])\n",
    "\n",
    "    median = sales[(sales.shop_id == 32) & (sales.item_id == 2973) & (sales.date_block_num == 4) & (\n",
    "            sales.item_price > 0)].item_price.median()\n",
    "    sales.loc[sales.item_price < 0, 'item_price'] = median\n",
    "    sales['item_cnt_day'] = sales['item_cnt_day'].clip(0, 1000)\n",
    "    # sales['item_cnt_day'] = sales['item_cnt_day'].clip(0, 20)\n",
    "    sales['item_price'] = sales['item_price'].clip(0, 300000)\n",
    "\n",
    "    # =======================\n",
    "    # From https://www.kaggle.com/dlarionov/feature-engineering-xgb/notebook\n",
    "    # Якутск Орджоникидзе, 56\n",
    "    sales.loc[sales.shop_id == 0, 'shop_id'] = 57\n",
    "    val.loc[val.shop_id == 0, 'shop_id'] = 57\n",
    "    # Якутск ТЦ \"Центральный\"\n",
    "    sales.loc[sales.shop_id == 1, 'shop_id'] = 58\n",
    "    val.loc[val.shop_id == 1, 'shop_id'] = 58\n",
    "    # Жуковский ул. Чкалова 39м²\n",
    "    sales.loc[sales.shop_id == 10, 'shop_id'] = 11\n",
    "    val.loc[val.shop_id == 10, 'shop_id'] = 11\n",
    "    # =======================\n",
    "    for f in sales.columns: \n",
    "        if sales[f].dtype=='object': \n",
    "            lbl = preprocessing.LabelEncoder() \n",
    "            lbl.fit(list(train[f].values)) \n",
    "            sales[f] = lbl.transform(list(sales[f].values))\n",
    "\n",
    "    for f in val.columns: \n",
    "        if val[f].dtype=='object': \n",
    "            lbl = preprocessing.LabelEncoder() \n",
    "            lbl.fit(list(val[f].values)) \n",
    "            val[f] = lbl.transform(list(val[f].values))\n",
    "\n",
    "    sales.fillna((-999), inplace=True) \n",
    "    val.fillna((-999), inplace=True)\n",
    "\n",
    "\n",
    "  \n",
    "\n",
    "    # Rearrange the raw data to be monthly sales by item-shop\n",
    "    #sales.date.apply(lambda x: x.strftime('%Y-%m'))\n",
    "    df = sales\n",
    "    df['day']=df['date'].apply(lambda x: x.strftime('%d'))\n",
    "    df['day']=df['day'].astype('int64')\n",
    "    df['month']=df['date'].apply(lambda x: x.strftime('%m'))\n",
    "    df['month']=df['month'].astype('int64')\n",
    "    df['year']=df['date'].apply(lambda x: x.strftime('%Y'))\n",
    "    df['year']=df['year'].astype('int64')\n",
    "    df = df[['day','month','year','item_id', 'shop_id','item_price','item_cnt_day']]\n",
    "#     df = df.pivot_table(index=['item_id', 'shop_id'], columns='date', values='item_cnt_day', fill_value=0).reset_index()\n",
    "#     count=df.iloc[:,2:]\n",
    "#     df['total']=count.sum(axis=1)\n",
    "    data=df\n",
    "    #data = pd.merge(val, df, on=['item_id', 'shop_id'], how='left').fillna(0)\n",
    "    data['item_id'] = np.log1p(data['item_id'])\n",
    "    return data"
   ]
  },
  {
   "cell_type": "code",
   "execution_count": null,
   "metadata": {},
   "outputs": [],
   "source": []
  },
  {
   "cell_type": "code",
   "execution_count": 248,
   "metadata": {},
   "outputs": [],
   "source": [
    "#  df = sales\n",
    "# df['day']=df['date'].apply(lambda x: x.strftime('%d'))\n",
    "# df['day']=df['day'].astype('int64')\n",
    "# df = df[['day','date_block_num','item_id', 'shop_id','item_price','item_cnt_day']]\n",
    "# #     df = df.pivot_table(index=['item_id', 'shop_id'], columns='date', values='item_cnt_day', fill_value=0).reset_index()\n",
    "# #     count=df.iloc[:,2:]\n",
    "# #     df['total']=count.sum(axis=1)\n",
    "# data=df\n",
    "# #data = pd.merge(val, df, on=['item_id', 'shop_id'], how='left').fillna(0)\n",
    "# data['item_id'] = np.log1p(data['item_id'])\n",
    "# df.head(10)"
   ]
  },
  {
   "cell_type": "code",
   "execution_count": 249,
   "metadata": {},
   "outputs": [],
   "source": [
    "# df['day']=df['date'].apply(lambda x: x.strftime('%d'))\n",
    "# df['day']=df['day'].astype('int64')\n",
    "# df.head(20)"
   ]
  },
  {
   "cell_type": "code",
   "execution_count": 250,
   "metadata": {},
   "outputs": [
    {
     "name": "stdout",
     "output_type": "stream",
     "text": [
      "<class 'pandas.core.frame.DataFrame'>\n",
      "RangeIndex: 10000 entries, 0 to 9999\n",
      "Data columns (total 6 columns):\n",
      "day           10000 non-null int64\n",
      "month         10000 non-null int64\n",
      "year          10000 non-null int64\n",
      "item_id       10000 non-null float64\n",
      "shop_id       10000 non-null int64\n",
      "item_price    10000 non-null float64\n",
      "dtypes: float64(2), int64(4)\n",
      "memory usage: 468.8 KB\n"
     ]
    }
   ],
   "source": [
    "df.info()"
   ]
  },
  {
   "cell_type": "code",
   "execution_count": 251,
   "metadata": {},
   "outputs": [],
   "source": [
    "\n",
    "# df = df.pivot_table(index=['item_id', 'shop_id'], columns='date', values='item_cnt_day', fill_value=0).reset_index()\n",
    "# df.head(30)"
   ]
  },
  {
   "cell_type": "code",
   "execution_count": 252,
   "metadata": {},
   "outputs": [],
   "source": [
    "# count=df.iloc[:,2:]\n",
    "# df['total']=count.sum(axis=1)\n"
   ]
  },
  {
   "cell_type": "code",
   "execution_count": 253,
   "metadata": {},
   "outputs": [],
   "source": [
    "# df.head()"
   ]
  },
  {
   "cell_type": "code",
   "execution_count": 254,
   "metadata": {},
   "outputs": [],
   "source": [
    "# val = pd.read_csv('%s/test.csv' % data_path)\n",
    "# data = pd.merge(val, df, on=['item_id', 'shop_id'], how='left').fillna(0)\n"
   ]
  },
  {
   "cell_type": "code",
   "execution_count": 255,
   "metadata": {},
   "outputs": [],
   "source": [
    "# data['item_id'] = np.log1p(data['item_id'])\n",
    "# data.head(30)\n"
   ]
  },
  {
   "cell_type": "code",
   "execution_count": 256,
   "metadata": {},
   "outputs": [],
   "source": [
    "def rmse(predictions, targets):\n",
    "    return np.sqrt(np.mean((predictions - targets) ** 2))\n"
   ]
  },
  {
   "cell_type": "code",
   "execution_count": 257,
   "metadata": {},
   "outputs": [],
   "source": [
    "def train_model(x_train, y_train):\n",
    "    reg = ExtraTreesRegressor(n_estimators=512, max_depth=20,\n",
    "                                       random_state=50)\n",
    "    reg.fit(x_train, y_train)\n",
    "    y_pre = reg.predict(x_train)\n",
    "    score = np.sqrt(mean_squared_error(y_train, y_pre))\n",
    "    print('RMSE cliped:', np.sqrt(mean_squared_error(y_train.clip(0., 20.), y_pre.clip(0., 20.))))\n",
    "    return reg"
   ]
  },
  {
   "cell_type": "code",
   "execution_count": 258,
   "metadata": {},
   "outputs": [],
   "source": [
    "def light_gbm_model(x_train, y_train):\n",
    "    lgb_params = {\n",
    "        'feature_fraction': 1,\n",
    "        'metric': 'rmse',\n",
    "        'min_data_in_leaf': 16,\n",
    "        'bagging_fraction': 0.85,\n",
    "        'learning_rate': 0.03,\n",
    "        'objective': 'mse',\n",
    "        'bagging_seed': 2 ** 7,\n",
    "        'num_leaves': 32,\n",
    "        'bagging_freq': 3,\n",
    "        'verbose': 0\n",
    "    }\n",
    "    estimator = lgb.train(lgb_params, lgb.Dataset(x_train, label=y_train), 300)\n",
    "    y_pre = estimator.predict(x_train)\n",
    "    print('RMSE cliped:', np.sqrt(mean_squared_error(y_train.clip(0., 20.), y_pre.clip(0., 20.))))\n",
    "    return estimator"
   ]
  },
  {
   "cell_type": "code",
   "execution_count": 259,
   "metadata": {},
   "outputs": [],
   "source": [
    "def linear_model(x_train, y_train):\n",
    "    lr = LinearRegression()\n",
    "    lr.fit(x_train, y_train)\n",
    "    y_pre = lr.predict(x_train)\n",
    "    print('RMSE cliped:', np.sqrt(mean_squared_error(y_train.clip(0., 20.), y_pre.clip(0., 20.))))\n",
    "    return lr"
   ]
  },
  {
   "cell_type": "code",
   "execution_count": 260,
   "metadata": {},
   "outputs": [],
   "source": [
    "def xgb_model(x_train, y_train, x_train_val, y_train_val):\n",
    "    model = XGBRegressor(\n",
    "        max_depth=8,\n",
    "        n_estimators=1000,\n",
    "        min_child_weight=300,\n",
    "        colsample_bytree=0.9,\n",
    "        subsample=0.9,\n",
    "        eta=0.15,\n",
    "        seed=42)\n",
    "    model.fit(\n",
    "        x_train,\n",
    "        y_train,\n",
    "        eval_metric=\"rmse\",\n",
    "        eval_set=[(x_train, y_train), (x_train_val, y_train_val)],\n",
    "        verbose=True,\n",
    "        early_stopping_rounds=10)\n",
    "    y_pre = model.predict(x_train)\n",
    "    print('RMSE cliped:', np.sqrt(mean_squared_error(y_train.clip(0., 20.), y_pre.clip(0., 20.))))\n",
    "    plot_importance(model)\n",
    "    pyplot.show()\n",
    "    return model"
   ]
  },
  {
   "cell_type": "code",
   "execution_count": 261,
   "metadata": {},
   "outputs": [],
   "source": [
    "def pre_data(data_type, reg, x_test):\n",
    "    if reg is None:\n",
    "        reg = joblib.load('%s/%s_model_weight.model' % (out_path, data_type))\n",
    "    y_pre = reg.predict(x_test)\n",
    "    return y_pre"
   ]
  },
  {
   "cell_type": "code",
   "execution_count": 262,
   "metadata": {},
   "outputs": [
    {
     "name": "stdout",
     "output_type": "stream",
     "text": [
      "Before drop shape: (2925849, 7)\n",
      "After drop shape: (2925827, 7)\n",
      "Total Duplicate: 22\n",
      "Before drop shape: (10000, 6)\n",
      "After drop shape: (10000, 6)\n",
      "Total Duplicate: 0\n"
     ]
    },
    {
     "name": "stderr",
     "output_type": "stream",
     "text": [
      "C:\\Users\\Siddu\\Miniconda3\\lib\\site-packages\\ipykernel_launcher.py:64: SettingWithCopyWarning: \n",
      "A value is trying to be set on a copy of a slice from a DataFrame.\n",
      "Try using .loc[row_indexer,col_indexer] = value instead\n",
      "\n",
      "See the caveats in the documentation: http://pandas.pydata.org/pandas-docs/stable/indexing.html#indexing-view-versus-copy\n"
     ]
    }
   ],
   "source": [
    "test = pre_process_data_3()\n",
    "test_date_info = test\n",
    "\n",
    "\n"
   ]
  },
  {
   "cell_type": "code",
   "execution_count": 263,
   "metadata": {},
   "outputs": [],
   "source": [
    "# sales = pd.read_csv('%s/train.csv' % data_path, parse_dates=['date'], infer_datetime_format=True,dayfirst=True)\n",
    "\n",
    "y_train_normal = test_date_info['item_cnt_day']\n",
    "x_train_normal = test_date_info.drop(labels=['item_cnt_day'], axis=1)\n"
   ]
  },
  {
   "cell_type": "code",
   "execution_count": 268,
   "metadata": {},
   "outputs": [
    {
     "data": {
      "text/html": [
       "<div>\n",
       "<style scoped>\n",
       "    .dataframe tbody tr th:only-of-type {\n",
       "        vertical-align: middle;\n",
       "    }\n",
       "\n",
       "    .dataframe tbody tr th {\n",
       "        vertical-align: top;\n",
       "    }\n",
       "\n",
       "    .dataframe thead th {\n",
       "        text-align: right;\n",
       "    }\n",
       "</style>\n",
       "<table border=\"1\" class=\"dataframe\">\n",
       "  <thead>\n",
       "    <tr style=\"text-align: right;\">\n",
       "      <th></th>\n",
       "      <th>day</th>\n",
       "      <th>month</th>\n",
       "      <th>year</th>\n",
       "      <th>item_id</th>\n",
       "      <th>shop_id</th>\n",
       "      <th>item_price</th>\n",
       "    </tr>\n",
       "  </thead>\n",
       "  <tbody>\n",
       "    <tr>\n",
       "      <th>2925727</th>\n",
       "      <td>16</td>\n",
       "      <td>1</td>\n",
       "      <td>2014</td>\n",
       "      <td>9.509407</td>\n",
       "      <td>56</td>\n",
       "      <td>12990.0</td>\n",
       "    </tr>\n",
       "    <tr>\n",
       "      <th>2925728</th>\n",
       "      <td>30</td>\n",
       "      <td>5</td>\n",
       "      <td>2015</td>\n",
       "      <td>8.806274</td>\n",
       "      <td>18</td>\n",
       "      <td>26990.0</td>\n",
       "    </tr>\n",
       "    <tr>\n",
       "      <th>2925729</th>\n",
       "      <td>30</td>\n",
       "      <td>3</td>\n",
       "      <td>2015</td>\n",
       "      <td>8.669399</td>\n",
       "      <td>6</td>\n",
       "      <td>1099.0</td>\n",
       "    </tr>\n",
       "    <tr>\n",
       "      <th>2925730</th>\n",
       "      <td>11</td>\n",
       "      <td>9</td>\n",
       "      <td>2015</td>\n",
       "      <td>8.525360</td>\n",
       "      <td>38</td>\n",
       "      <td>1249.5</td>\n",
       "    </tr>\n",
       "    <tr>\n",
       "      <th>2925731</th>\n",
       "      <td>8</td>\n",
       "      <td>6</td>\n",
       "      <td>2014</td>\n",
       "      <td>9.668524</td>\n",
       "      <td>56</td>\n",
       "      <td>199.0</td>\n",
       "    </tr>\n",
       "  </tbody>\n",
       "</table>\n",
       "</div>"
      ],
      "text/plain": [
       "         day  month  year   item_id  shop_id  item_price\n",
       "2925727   16      1  2014  9.509407       56     12990.0\n",
       "2925728   30      5  2015  8.806274       18     26990.0\n",
       "2925729   30      3  2015  8.669399        6      1099.0\n",
       "2925730   11      9  2015  8.525360       38      1249.5\n",
       "2925731    8      6  2014  9.668524       56       199.0"
      ]
     },
     "execution_count": 268,
     "metadata": {},
     "output_type": "execute_result"
    }
   ],
   "source": [
    "#x_train_normal.columns = np.append(['shop_id', 'item_id'],np.arange(0, 36, 1))\n",
    "x_train_val = x_train_normal[-100:]\n",
    "y_train_val = y_train_normal[-100:]"
   ]
  },
  {
   "cell_type": "code",
   "execution_count": 266,
   "metadata": {},
   "outputs": [
    {
     "name": "stdout",
     "output_type": "stream",
     "text": [
      "RMSE cliped: 1.135070594287477\n"
     ]
    }
   ],
   "source": [
    "#xgb_model = xgb_model(x_train_normal[:-100], y_train_normal[:-100], x_train_val, y_train_val)\n",
    "#linear_model = linear_model(x_train_normal, y_train_normal)\n",
    "#light_gbm_model = light_gbm_model(x_train_normal, y_train_normal)\n",
    "# normal_model = train_model(x_train_normal, y_train_normal)"
   ]
  },
  {
   "cell_type": "code",
   "execution_count": 240,
   "metadata": {
    "scrolled": true
   },
   "outputs": [
    {
     "name": "stdout",
     "output_type": "stream",
     "text": [
      "Before drop shape: (10000, 6)\n",
      "After drop shape: (10000, 6)\n",
      "Total Duplicate: 0\n",
      "<class 'pandas.core.frame.DataFrame'>\n",
      "RangeIndex: 10000 entries, 0 to 9999\n",
      "Data columns (total 6 columns):\n",
      "date              10000 non-null datetime64[ns]\n",
      "date_block_num    10000 non-null int64\n",
      "shop_id           10000 non-null int64\n",
      "item_id           10000 non-null int64\n",
      "item_price        10000 non-null float64\n",
      "ID                10000 non-null int64\n",
      "dtypes: datetime64[ns](1), float64(1), int64(4)\n",
      "memory usage: 468.8 KB\n"
     ]
    },
    {
     "name": "stderr",
     "output_type": "stream",
     "text": [
      "C:\\Users\\Siddu\\Miniconda3\\lib\\site-packages\\ipykernel_launcher.py:39: SettingWithCopyWarning: \n",
      "A value is trying to be set on a copy of a slice from a DataFrame.\n",
      "Try using .loc[row_indexer,col_indexer] = value instead\n",
      "\n",
      "See the caveats in the documentation: http://pandas.pydata.org/pandas-docs/stable/indexing.html#indexing-view-versus-copy\n"
     ]
    },
    {
     "data": {
      "text/html": [
       "<div>\n",
       "<style scoped>\n",
       "    .dataframe tbody tr th:only-of-type {\n",
       "        vertical-align: middle;\n",
       "    }\n",
       "\n",
       "    .dataframe tbody tr th {\n",
       "        vertical-align: top;\n",
       "    }\n",
       "\n",
       "    .dataframe thead th {\n",
       "        text-align: right;\n",
       "    }\n",
       "</style>\n",
       "<table border=\"1\" class=\"dataframe\">\n",
       "  <thead>\n",
       "    <tr style=\"text-align: right;\">\n",
       "      <th></th>\n",
       "      <th>date</th>\n",
       "      <th>date_block_num</th>\n",
       "      <th>shop_id</th>\n",
       "      <th>item_id</th>\n",
       "      <th>item_price</th>\n",
       "      <th>ID</th>\n",
       "      <th>day</th>\n",
       "      <th>month</th>\n",
       "      <th>year</th>\n",
       "    </tr>\n",
       "  </thead>\n",
       "  <tbody>\n",
       "    <tr>\n",
       "      <th>0</th>\n",
       "      <td>2015-02-06</td>\n",
       "      <td>25</td>\n",
       "      <td>31</td>\n",
       "      <td>11208</td>\n",
       "      <td>699.0</td>\n",
       "      <td>2472142</td>\n",
       "      <td>6</td>\n",
       "      <td>2</td>\n",
       "      <td>2015</td>\n",
       "    </tr>\n",
       "    <tr>\n",
       "      <th>1</th>\n",
       "      <td>2013-11-21</td>\n",
       "      <td>10</td>\n",
       "      <td>31</td>\n",
       "      <td>19525</td>\n",
       "      <td>149.0</td>\n",
       "      <td>1044690</td>\n",
       "      <td>21</td>\n",
       "      <td>11</td>\n",
       "      <td>2013</td>\n",
       "    </tr>\n",
       "    <tr>\n",
       "      <th>2</th>\n",
       "      <td>2015-01-03</td>\n",
       "      <td>24</td>\n",
       "      <td>42</td>\n",
       "      <td>16169</td>\n",
       "      <td>299.0</td>\n",
       "      <td>2367559</td>\n",
       "      <td>3</td>\n",
       "      <td>1</td>\n",
       "      <td>2015</td>\n",
       "    </tr>\n",
       "    <tr>\n",
       "      <th>3</th>\n",
       "      <td>2014-07-18</td>\n",
       "      <td>18</td>\n",
       "      <td>42</td>\n",
       "      <td>2737</td>\n",
       "      <td>199.0</td>\n",
       "      <td>1793501</td>\n",
       "      <td>18</td>\n",
       "      <td>7</td>\n",
       "      <td>2014</td>\n",
       "    </tr>\n",
       "    <tr>\n",
       "      <th>4</th>\n",
       "      <td>2014-04-13</td>\n",
       "      <td>15</td>\n",
       "      <td>2</td>\n",
       "      <td>15229</td>\n",
       "      <td>1199.0</td>\n",
       "      <td>1585639</td>\n",
       "      <td>13</td>\n",
       "      <td>4</td>\n",
       "      <td>2014</td>\n",
       "    </tr>\n",
       "  </tbody>\n",
       "</table>\n",
       "</div>"
      ],
      "text/plain": [
       "        date  date_block_num  shop_id  item_id  item_price       ID  day  \\\n",
       "0 2015-02-06              25       31    11208       699.0  2472142    6   \n",
       "1 2013-11-21              10       31    19525       149.0  1044690   21   \n",
       "2 2015-01-03              24       42    16169       299.0  2367559    3   \n",
       "3 2014-07-18              18       42     2737       199.0  1793501   18   \n",
       "4 2014-04-13              15        2    15229      1199.0  1585639   13   \n",
       "\n",
       "   month  year  \n",
       "0      2  2015  \n",
       "1     11  2013  \n",
       "2      1  2015  \n",
       "3      7  2014  \n",
       "4      4  2014  "
      ]
     },
     "execution_count": 240,
     "metadata": {},
     "output_type": "execute_result"
    }
   ],
   "source": [
    "parser = lambda date: pd.to_datetime(date, format='%d.%m.%Y')\n",
    "\n",
    "val = pd.read_csv('%s/test.csv' % data_path, parse_dates=['date'], date_parser=parser)\n",
    "subset_test = ['date', 'date_block_num', 'shop_id', 'item_id']\n",
    "drop_duplicate(val, sub_set=subset_test)\n",
    "\n",
    "# unreasonable_data(sales['item_cnt_day'])\n",
    "# unreasonable_data(sales['item_price'])\n",
    "\n",
    "val.loc[val.shop_id == 0, 'shop_id'] = 57\n",
    "# Якутск ТЦ \"Центральный\"\n",
    "val.loc[val.shop_id == 1, 'shop_id'] = 58\n",
    "# Жуковский ул. Чкалова 39м²\n",
    "val.loc[val.shop_id == 10, 'shop_id'] = 11\n",
    "# =======================\n",
    "\n",
    "# for f in val.columns: \n",
    "#     if val[f].dtype=='object': \n",
    "#         lbl = preprocessing.LabelEncoder() \n",
    "#         lbl.fit(list(val[f].values)) \n",
    "#         val[f] = lbl.transform(list(val[f].values))\n",
    "\n",
    "sales.fillna((-999), inplace=True) \n",
    "val.fillna((-999), inplace=True)\n",
    "\n",
    "\n",
    "\n",
    "df = val\n",
    "val.info()\n",
    "val['day']=val['date'].apply(lambda x:x.strftime('%d'))\n",
    "df['day']=df['day'].astype('int64')\n",
    "df['month']=df['date'].apply(lambda x: x.strftime('%m'))\n",
    "df['month']=df['month'].astype('int64')\n",
    "df['year']=df['date'].apply(lambda x: x.strftime('%Y'))\n",
    "df['year']=df['year'].astype('int64')\n",
    "df = df[['day','month','year','item_id', 'shop_id','item_price']]\n",
    "data=df\n",
    "#data = pd.merge(val, df, on=['item_id', 'shop_id'], how='left').fillna(0)\n",
    "data['item_id'] = np.log1p(data['item_id'])\n",
    "test_x = data\n",
    "# test_x.columns = np.append(['shop_id', 'item_id'],np.arange(0, 36, 1))\n",
    "# test_y_1 = pre_data('normal', normal_model, test_x)\n",
    "test_y_2 = pre_data('light_gbm', light_gbm_model, test_x)\n",
    "# test_y_3 = pre_data('linear', linear_model, test_x)\n",
    "#test_y_4 = pre_data('xgb', xgb_model, test_x)\n",
    "test_y = test_y_2\n",
    "val.head()"
   ]
  },
  {
   "cell_type": "code",
   "execution_count": 241,
   "metadata": {},
   "outputs": [
    {
     "data": {
      "text/plain": [
       "(10000,)"
      ]
     },
     "execution_count": 241,
     "metadata": {},
     "output_type": "execute_result"
    }
   ],
   "source": [
    "test_y.shape"
   ]
  },
  {
   "cell_type": "code",
   "execution_count": 242,
   "metadata": {},
   "outputs": [],
   "source": [
    "val['item_cnt_day'] = test_y\n",
    "val[['ID', 'item_cnt_day']].to_csv('submission_xgboost.csv', index=False)"
   ]
  },
  {
   "cell_type": "code",
   "execution_count": null,
   "metadata": {},
   "outputs": [],
   "source": []
  },
  {
   "cell_type": "code",
   "execution_count": null,
   "metadata": {},
   "outputs": [],
   "source": []
  }
 ],
 "metadata": {
  "kernelspec": {
   "display_name": "Python 3",
   "language": "python",
   "name": "python3"
  },
  "language_info": {
   "codemirror_mode": {
    "name": "ipython",
    "version": 3
   },
   "file_extension": ".py",
   "mimetype": "text/x-python",
   "name": "python",
   "nbconvert_exporter": "python",
   "pygments_lexer": "ipython3",
   "version": "3.6.6"
  }
 },
 "nbformat": 4,
 "nbformat_minor": 2
}
