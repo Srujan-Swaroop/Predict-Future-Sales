{
 "cells": [
  {
   "cell_type": "code",
   "execution_count": 233,
   "metadata": {
    "collapsed": true
   },
   "outputs": [],
   "source": [
    "import numpy as np\n",
    "import pandas as pd\n",
    "import seaborn as sns\n",
    "import matplotlib.pyplot as plt\n",
    "%matplotlib inline\n",
    "import sklearn as sk\n",
    "from sklearn.linear_model import LinearRegression\n",
    "sns.set_style(\"ticks\", {\"xtick.major.size\": 10, \"ytick.major.size\": 10})\n",
    "plt.style.use('ggplot') \n"
   ]
  },
  {
   "cell_type": "code",
   "execution_count": 234,
   "metadata": {
    "collapsed": true
   },
   "outputs": [],
   "source": [
    "items = pd.read_csv('items.csv')\n",
    "shops = pd.read_csv('shops.csv')\n",
    "cats = pd.read_csv('item_categories.csv')\n",
    "train = pd.read_csv('train.csv')\n",
    "test=pd.read_csv('test.csv')"
   ]
  },
  {
   "cell_type": "code",
   "execution_count": 235,
   "metadata": {},
   "outputs": [
    {
     "name": "stdout",
     "output_type": "stream",
     "text": [
      "DATA HEAD\n",
      "\n",
      "          date  date_block_num  shop_id  item_id   item_price  item_cnt_day  \\\n",
      "0  28.12.2014              23       25    12179   959.000000           1.0   \n",
      "1  23.04.2014              15       25    14042   149.000000           1.0   \n",
      "2  03.03.2014              14       12    11373   106.615385          13.0   \n",
      "3  08.12.2013              11       47    12107   599.000000           1.0   \n",
      "4  23.01.2015              24       29     3341  2599.000000           1.0   \n",
      "\n",
      "        ID  \n",
      "0  2317582  \n",
      "1  1576962  \n",
      "2  1547382  \n",
      "3  1255724  \n",
      "4  2372492  \n",
      "\n",
      "\n",
      "<class 'pandas.core.frame.DataFrame'>\n",
      "RangeIndex: 2925849 entries, 0 to 2925848\n",
      "Data columns (total 7 columns):\n",
      "date              object\n",
      "date_block_num    int64\n",
      "shop_id           int64\n",
      "item_id           int64\n",
      "item_price        float64\n",
      "item_cnt_day      float64\n",
      "ID                int64\n",
      "dtypes: float64(2), int64(4), object(1)\n",
      "memory usage: 156.3+ MB\n",
      "\n",
      "\n",
      "Train NULL values\n",
      " date              0\n",
      "date_block_num    0\n",
      "shop_id           0\n",
      "item_id           0\n",
      "item_price        0\n",
      "item_cnt_day      0\n",
      "ID                0\n",
      "dtype: int64\n"
     ]
    }
   ],
   "source": [
    "print(\"DATA HEAD\\n\\n\",train.head())\n",
    "train.describe();\n",
    "print(\"\\n\")\n",
    "train.info();\n",
    "print(\"\\n\")\n",
    "print(\"Train NULL values\\n\",train.isnull().sum());"
   ]
  },
  {
   "cell_type": "code",
   "execution_count": 236,
   "metadata": {},
   "outputs": [
    {
     "name": "stdout",
     "output_type": "stream",
     "text": [
      "(2925849, 7)\n",
      "(2925847, 7)\n"
     ]
    }
   ],
   "source": [
    "# train.plot(kind=\"scatter\", x=\"item_id\", y=\"item_price\", figsize=(10,14));\n",
    "# plt.show();\n",
    "print(train.shape)\n",
    "train = train[(train.item_price > 0) & (train.item_price < 300000)]\n",
    "print(train.shape)"
   ]
  },
  {
   "cell_type": "code",
   "execution_count": 237,
   "metadata": {},
   "outputs": [],
   "source": [
    "# train.plot(kind=\"scatter\", x=\"item_id\", y=\"item_cnt_day\", figsize=(10,8));\n",
    "# plt.show();"
   ]
  },
  {
   "cell_type": "code",
   "execution_count": 238,
   "metadata": {},
   "outputs": [
    {
     "name": "stdout",
     "output_type": "stream",
     "text": [
      "(2918522, 7)\n"
     ]
    }
   ],
   "source": [
    "train.item_cnt_day[train['item_cnt_day']>999].value_counts()\n",
    "train = train[(train.item_cnt_day> 0) & (train.item_cnt_day < 2000)]\n",
    "print(train.shape)"
   ]
  },
  {
   "cell_type": "code",
   "execution_count": 239,
   "metadata": {
    "collapsed": true
   },
   "outputs": [],
   "source": [
    "from sklearn.linear_model import LinearRegression\n",
    "lm = LinearRegression()\n",
    "y=train['item_cnt_day']"
   ]
  },
  {
   "cell_type": "code",
   "execution_count": 240,
   "metadata": {},
   "outputs": [
    {
     "name": "stderr",
     "output_type": "stream",
     "text": [
      "/home/srujan/anaconda3/lib/python3.6/site-packages/ipykernel_launcher.py:1: FutureWarning: reshape is deprecated and will raise in a subsequent release. Please use .values.reshape(...) instead\n",
      "  \"\"\"Entry point for launching an IPython kernel.\n"
     ]
    }
   ],
   "source": [
    "y=y.reshape(-1,1)\n"
   ]
  },
  {
   "cell_type": "code",
   "execution_count": 241,
   "metadata": {},
   "outputs": [
    {
     "name": "stdout",
     "output_type": "stream",
     "text": [
      "(2918522, 7)\n"
     ]
    },
    {
     "data": {
      "text/plain": [
       "<matplotlib.figure.Figure at 0x7f8340492e10>"
      ]
     },
     "execution_count": 241,
     "metadata": {},
     "output_type": "execute_result"
    },
    {
     "data": {
      "text/plain": [
       "<matplotlib.figure.Figure at 0x7f8340492e10>"
      ]
     },
     "metadata": {},
     "output_type": "display_data"
    }
   ],
   "source": [
    "print (train.shape)\n",
    "plt.figure(figsize=(10,14))\n",
    "# train.hist('item_price')\n",
    "# train.hist('item_cnt_day')\n",
    "# train.hist('ID')\n",
    "# train.hist('shop_id')\n",
    "\n",
    "\n",
    "# train.head()"
   ]
  },
  {
   "cell_type": "code",
   "execution_count": 249,
   "metadata": {},
   "outputs": [
    {
     "name": "stderr",
     "output_type": "stream",
     "text": [
      "/home/srujan/anaconda3/lib/python3.6/site-packages/ipykernel_launcher.py:1: FutureWarning: reshape is deprecated and will raise in a subsequent release. Please use .values.reshape(...) instead\n",
      "  \"\"\"Entry point for launching an IPython kernel.\n"
     ]
    },
    {
     "data": {
      "text/plain": [
       "(2918522, 4)"
      ]
     },
     "execution_count": 249,
     "metadata": {},
     "output_type": "execute_result"
    }
   ],
   "source": [
    "x=np.hstack([train['date_block_num'].reshape(-1,1),train['shop_id'].reshape(-1,1),train['item_id'].reshape(-1,1),train['item_price'].reshape(-1,1)])\n",
    "x.shape\n"
   ]
  },
  {
   "cell_type": "code",
   "execution_count": 243,
   "metadata": {},
   "outputs": [
    {
     "data": {
      "text/plain": [
       "array([[  2.30000000e+01,   2.50000000e+01,   1.21790000e+04,\n",
       "          9.59000000e+02],\n",
       "       [  1.50000000e+01,   2.50000000e+01,   1.40420000e+04,\n",
       "          1.49000000e+02],\n",
       "       [  1.40000000e+01,   1.20000000e+01,   1.13730000e+04,\n",
       "          1.06615385e+02],\n",
       "       ..., \n",
       "       [  2.30000000e+01,   3.10000000e+01,   3.39300000e+03,\n",
       "          9.96070000e+02],\n",
       "       [  3.00000000e+01,   3.10000000e+01,   2.00360000e+04,\n",
       "          3.99000000e+02],\n",
       "       [  2.30000000e+01,   4.70000000e+01,   1.53950000e+04,\n",
       "          6.49000000e+02]])"
      ]
     },
     "execution_count": 243,
     "metadata": {},
     "output_type": "execute_result"
    }
   ],
   "source": [
    "x"
   ]
  },
  {
   "cell_type": "code",
   "execution_count": 244,
   "metadata": {},
   "outputs": [
    {
     "data": {
      "text/plain": [
       "LinearRegression(copy_X=True, fit_intercept=True, n_jobs=1, normalize=False)"
      ]
     },
     "execution_count": 244,
     "metadata": {},
     "output_type": "execute_result"
    }
   ],
   "source": [
    "lm.fit(x, y)\n"
   ]
  },
  {
   "cell_type": "code",
   "execution_count": 245,
   "metadata": {},
   "outputs": [
    {
     "data": {
      "text/plain": [
       "array([ 1.15023574])"
      ]
     },
     "execution_count": 245,
     "metadata": {},
     "output_type": "execute_result"
    }
   ],
   "source": [
    "c_pred = lm.intercept_\n",
    "c_pred"
   ]
  },
  {
   "cell_type": "code",
   "execution_count": 246,
   "metadata": {},
   "outputs": [
    {
     "name": "stderr",
     "output_type": "stream",
     "text": [
      "/home/srujan/anaconda3/lib/python3.6/site-packages/ipykernel_launcher.py:3: FutureWarning: reshape is deprecated and will raise in a subsequent release. Please use .values.reshape(...) instead\n",
      "  This is separate from the ipykernel package so we can avoid doing imports until\n"
     ]
    }
   ],
   "source": [
    "m_pred = lm.coef_\n",
    "m_pred\n",
    "x_test=np.hstack([test['date_block_num'].reshape(-1,1),test['shop_id'].reshape(-1,1),test['item_id'].reshape(-1d,1),test['item_price'].reshape(-1,1)])\n",
    "y_pre"
   ]
  },
  {
   "cell_type": "code",
   "execution_count": 247,
   "metadata": {
    "collapsed": true
   },
   "outputs": [],
   "source": [
    "y_pred = lm.predict(x)\n",
    "def loss(y, y_predicted):\n",
    "    return np.mean(np.square(y-y_predicted))"
   ]
  },
  {
   "cell_type": "code",
   "execution_count": 248,
   "metadata": {},
   "outputs": [
    {
     "data": {
      "text/plain": [
       "5.2595045184803944"
      ]
     },
     "execution_count": 248,
     "metadata": {},
     "output_type": "execute_result"
    }
   ],
   "source": [
    "loss(y,y_pred)"
   ]
  },
  {
   "cell_type": "code",
   "execution_count": null,
   "metadata": {
    "collapsed": true
   },
   "outputs": [],
   "source": []
  },
  {
   "cell_type": "code",
   "execution_count": null,
   "metadata": {
    "collapsed": true
   },
   "outputs": [],
   "source": []
  },
  {
   "cell_type": "code",
   "execution_count": null,
   "metadata": {
    "collapsed": true
   },
   "outputs": [],
   "source": []
  },
  {
   "cell_type": "code",
   "execution_count": null,
   "metadata": {
    "collapsed": true
   },
   "outputs": [],
   "source": []
  }
 ],
 "metadata": {
  "kernelspec": {
   "display_name": "Python 3",
   "language": "python",
   "name": "python3"
  },
  "language_info": {
   "codemirror_mode": {
    "name": "ipython",
    "version": 3
   },
   "file_extension": ".py",
   "mimetype": "text/x-python",
   "name": "python",
   "nbconvert_exporter": "python",
   "pygments_lexer": "ipython3",
   "version": "3.6.3"
  }
 },
 "nbformat": 4,
 "nbformat_minor": 2
}
