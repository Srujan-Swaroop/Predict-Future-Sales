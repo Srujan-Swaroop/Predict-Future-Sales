{
 "cells": [
  {
   "cell_type": "code",
   "execution_count": 8,
   "metadata": {},
   "outputs": [
    {
     "name": "stdout",
     "output_type": "stream",
     "text": [
      "['items.csv', 'shops.csv', 'test.csv', 'train.csv', 'item_categories.csv', 'sample_submission.csv']\n"
     ]
    }
   ],
   "source": [
    "import numpy as np\n",
    "import pandas as pd \n",
    "import os\n",
    "print(os.listdir(\"../input\"))"
   ]
  },
  {
   "cell_type": "code",
   "execution_count": 9,
   "metadata": {
    "collapsed": true
   },
   "outputs": [],
   "source": [
    "import pandas as pd\n",
    "import matplotlib.pyplot as plt\n",
    "import seaborn as sns\n",
    "import numpy as np\n",
    "import numpy.random as nr\n",
    "import math\n",
    "from sklearn.linear_model import LinearRegression\n",
    "sns.set_style(\"ticks\", {\"xtick.major.size\": 10, \"ytick.major.size\": 10})\n",
    "plt.style.use('ggplot') "
   ]
  },
  {
   "cell_type": "code",
   "execution_count": 10,
   "metadata": {
    "collapsed": true
   },
   "outputs": [],
   "source": [
    "train = pd.read_csv('../input/train.csv')\n",
    "test  = pd.read_csv('../input/test.csv')\n",
    "items = pd.read_csv('../input/items.csv')\n",
    "shops = pd.read_csv('../input/shops.csv')\n",
    "item_categories = pd.read_csv('../input/test.csv')"
   ]
  },
  {
   "cell_type": "code",
   "execution_count": 11,
   "metadata": {},
   "outputs": [
    {
     "name": "stdout",
     "output_type": "stream",
     "text": [
      "(2925849, 7)\n",
      "(2925823, 7)\n"
     ]
    }
   ],
   "source": [
    "subset=['date','shop_id','item_id']\n",
    "print(train.shape)\n",
    "train.drop_duplicates(subset,keep='first',inplace=True)\n",
    "print(train.shape)"
   ]
  },
  {
   "cell_type": "code",
   "execution_count": 12,
   "metadata": {},
   "outputs": [
    {
     "name": "stdout",
     "output_type": "stream",
     "text": [
      "         date  date_block_num  shop_id  item_id   item_price  item_cnt_day  \\\n",
      "0  28.12.2014              23       25    12179   959.000000           1.0   \n",
      "1  23.04.2014              15       25    14042   149.000000           1.0   \n",
      "2  03.03.2014              14       12    11373   106.615385          13.0   \n",
      "3  08.12.2013              11       47    12107   599.000000           1.0   \n",
      "4  23.01.2015              24       29     3341  2599.000000           1.0   \n",
      "\n",
      "        ID  \n",
      "0  2317582  \n",
      "1  1576962  \n",
      "2  1547382  \n",
      "3  1255724  \n",
      "4  2372492  \n",
      "         date  date_block_num  shop_id  item_id  item_price       ID\n",
      "0  06.02.2015              25       31    11208       699.0  2472142\n",
      "1  21.11.2013              10       31    19525       149.0  1044690\n",
      "2  03.01.2015              24       42    16169       299.0  2367559\n",
      "3  18.07.2014              18       42     2737       199.0  1793501\n",
      "4  13.04.2014              15        2    15229      1199.0  1585639\n"
     ]
    }
   ],
   "source": [
    "print(train.head())\n",
    "print (test.head())"
   ]
  },
  {
   "cell_type": "code",
   "execution_count": 13,
   "metadata": {},
   "outputs": [
    {
     "name": "stdout",
     "output_type": "stream",
     "text": [
      "(2925823, 7)\n"
     ]
    }
   ],
   "source": [
    "print(train.shape)"
   ]
  },
  {
   "cell_type": "code",
   "execution_count": 14,
   "metadata": {},
   "outputs": [],
   "source": [
    "# train.hist('item_price')\n",
    "# train.hist('shop_id')\n",
    "# train.hist('item_cnt_day')\n",
    "# train.hist('item_id')\n",
    "# plt.figure(figsize=(10,14))\n",
    "# plt.show()"
   ]
  },
  {
   "cell_type": "code",
   "execution_count": 15,
   "metadata": {},
   "outputs": [],
   "source": [
    "# print(train['item_price'].max())\n",
    "# plt.figure(figsize=(15,10))\n",
    "# plt.xlabel('price')\n",
    "# plt.ylabel('count')\n",
    "# # dates = check.date.apply(lambda x: x.strftime('%d/%m/%y'))\n",
    "# plt.scatter(train['item_price'],train['item_cnt_day'])\n",
    "# plt.show()"
   ]
  },
  {
   "cell_type": "code",
   "execution_count": 16,
   "metadata": {},
   "outputs": [],
   "source": [
    "# plt.figure(figsize=(15,10))\n",
    "# plt.xlabel('ID')\n",
    "# plt.ylabel('count')\n",
    "# # dates = train.date.apply(lambda x: x.strftime('%d/%m/%y'))\n",
    "# plt.plot(train['item_id'],train['item_cnt_day'],'r.')\n",
    "# plt.show()"
   ]
  },
  {
   "cell_type": "code",
   "execution_count": 17,
   "metadata": {},
   "outputs": [],
   "source": [
    "# plt.figure(figsize=(15,10))\n",
    "# plt.xlabel('ID')\n",
    "# plt.ylabel('price')\n",
    "# # dates = train.date.apply(lambda x: x.strftime('%d/%m/%y'))\n",
    "# plt.plot(train['item_id'],train['item_price'],'r.')\n",
    "# plt.show()"
   ]
  },
  {
   "cell_type": "code",
   "execution_count": 18,
   "metadata": {},
   "outputs": [],
   "source": [
    "# plt.figure(figsize=(15,10))\n",
    "# plt.xlabel('date_block_num')\n",
    "# plt.ylabel('item_cnt_day')\n",
    "# # dates = train.date.apply(lambda x: x.strftime('%d/%m/%y'))\n",
    "# plt.plot(train['date_block_num'],train['item_cnt_day'],'r.')\n",
    "# plt.show()"
   ]
  },
  {
   "cell_type": "code",
   "execution_count": 19,
   "metadata": {},
   "outputs": [
    {
     "data": {
      "text/plain": [
       "22169"
      ]
     },
     "execution_count": 19,
     "metadata": {},
     "output_type": "execute_result"
    }
   ],
   "source": [
    "train['item_id'].max()"
   ]
  },
  {
   "cell_type": "code",
   "execution_count": 20,
   "metadata": {},
   "outputs": [],
   "source": [
    "# plt.plot(train[train['item_cnt_day']<0]['item_id'].value_counts().sort_index())\n",
    "# plt.show()"
   ]
  },
  {
   "cell_type": "code",
   "execution_count": 21,
   "metadata": {},
   "outputs": [],
   "source": [
    "train['item_cnt_day']=train['item_cnt_day'].clip(0,1000)\n",
    "print"
   ]
  },
  {
   "cell_type": "code",
   "execution_count": 22,
   "metadata": {
    "collapsed": true
   },
   "outputs": [],
   "source": [
    "train['item_price']=train['item_price'].clip(0,60000)"
   ]
  }
 ],
 "metadata": {
  "kernelspec": {
   "display_name": "Python 3",
   "language": "python",
   "name": "python3"
  },
  "language_info": {
   "codemirror_mode": {
    "name": "ipython",
    "version": 3
   },
   "file_extension": ".py",
   "mimetype": "text/x-python",
   "name": "python",
   "nbconvert_exporter": "python",
   "pygments_lexer": "ipython3",
   "version": "3.6.3"
  }
 },
 "nbformat": 4,
 "nbformat_minor": 2
}
