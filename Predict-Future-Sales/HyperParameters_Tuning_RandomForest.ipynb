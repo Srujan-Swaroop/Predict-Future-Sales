{
 "cells": [
  {
   "cell_type": "code",
   "execution_count": 1,
   "metadata": {},
   "outputs": [],
   "source": [
    "import numpy as np \n",
    "import pandas as pd "
   ]
  },
  {
   "cell_type": "code",
   "execution_count": 2,
   "metadata": {},
   "outputs": [
    {
     "name": "stdout",
     "output_type": "stream",
     "text": [
      "Parameters currently in use:\n",
      "\n",
      "{'bootstrap': True,\n",
      " 'criterion': 'mse',\n",
      " 'max_depth': None,\n",
      " 'max_features': 'auto',\n",
      " 'max_leaf_nodes': None,\n",
      " 'min_impurity_decrease': 0.0,\n",
      " 'min_impurity_split': None,\n",
      " 'min_samples_leaf': 1,\n",
      " 'min_samples_split': 2,\n",
      " 'min_weight_fraction_leaf': 0.0,\n",
      " 'n_estimators': 'warn',\n",
      " 'n_jobs': None,\n",
      " 'oob_score': False,\n",
      " 'random_state': 42,\n",
      " 'verbose': 0,\n",
      " 'warm_start': False}\n"
     ]
    }
   ],
   "source": [
    "from sklearn.ensemble import RandomForestRegressor\n",
    "\n",
    "rf = RandomForestRegressor(random_state = 42)\n",
    "\n",
    "from pprint import pprint\n",
    "\n",
    "# Look at parameters used by our current forest\n",
    "print('Parameters currently in use:\\n')\n",
    "pprint(rf.get_params())"
   ]
  },
  {
   "cell_type": "code",
   "execution_count": 3,
   "metadata": {},
   "outputs": [],
   "source": [
    "# try adjusting the following set of hyperparameters:\n",
    "\n",
    "#     n_estimators = number of trees in the foreset\n",
    "#     max_features = max number of features considered for splitting a node\n",
    "#     max_depth = max number of levels in each decision tree\n",
    "#     min_samples_split = min number of data points placed in a node before the node is split\n",
    "#     min_samples_leaf = min number of data points allowed in a leaf node\n",
    "#     bootstrap = method for sampling data points (with or without replacement)\n"
   ]
  },
  {
   "cell_type": "code",
   "execution_count": 4,
   "metadata": {},
   "outputs": [
    {
     "name": "stdout",
     "output_type": "stream",
     "text": [
      "{'bootstrap': [True, False],\n",
      " 'max_depth': [10, 20, 30, 40, 50, 60, 70, 80, 90, 100, 110, None],\n",
      " 'max_features': ['auto', 'sqrt'],\n",
      " 'min_samples_leaf': [1, 2, 4],\n",
      " 'min_samples_split': [2, 5, 10],\n",
      " 'n_estimators': [200, 400, 600, 800, 1000, 1200, 1400, 1600, 1800, 2000]}\n"
     ]
    }
   ],
   "source": [
    "from sklearn.model_selection import RandomizedSearchCV\n",
    "\n",
    "# Number of trees in random forest\n",
    "n_estimators = [int(x) for x in np.linspace(start = 200, stop = 2000, num = 10)]\n",
    "# Number of features to consider at every split\n",
    "max_features = ['auto', 'sqrt']\n",
    "# Maximum number of levels in tree\n",
    "max_depth = [int(x) for x in np.linspace(10, 110, num = 11)]\n",
    "max_depth.append(None)\n",
    "# Minimum number of samples required to split a node\n",
    "min_samples_split = [2, 5, 10]\n",
    "# Minimum number of samples required at each leaf node\n",
    "min_samples_leaf = [1, 2, 4]\n",
    "# Method of selecting samples for training each tree\n",
    "bootstrap = [True, False]\n",
    "\n",
    "# Create the random grid\n",
    "random_grid = {'n_estimators': n_estimators,\n",
    "               'max_features': max_features,\n",
    "               'max_depth': max_depth,\n",
    "               'min_samples_split': min_samples_split,\n",
    "               'min_samples_leaf': min_samples_leaf,\n",
    "               'bootstrap': bootstrap}\n",
    "\n",
    "pprint(random_grid)"
   ]
  },
  {
   "cell_type": "code",
   "execution_count": 5,
   "metadata": {},
   "outputs": [],
   "source": [
    "from datetime import datetime\n",
    "parser = lambda date: pd.to_datetime(date, format='%d.%m.%Y')\n",
    "train = pd.read_csv('processed_train.csv',parse_dates=['date'], date_parser=parser)\n",
    "test  = pd.read_csv('processed_test.csv',parse_dates=['date'], date_parser=parser)"
   ]
  },
  {
   "cell_type": "code",
   "execution_count": 6,
   "metadata": {},
   "outputs": [
    {
     "name": "stderr",
     "output_type": "stream",
     "text": [
      "/home/rohith/anaconda3/lib/python3.6/site-packages/ipykernel_launcher.py:15: SettingWithCopyWarning: \n",
      "A value is trying to be set on a copy of a slice from a DataFrame.\n",
      "Try using .loc[row_indexer,col_indexer] = value instead\n",
      "\n",
      "See the caveats in the documentation: http://pandas.pydata.org/pandas-docs/stable/indexing.html#indexing-view-versus-copy\n",
      "  from ipykernel import kernelapp as app\n"
     ]
    }
   ],
   "source": [
    "#features\n",
    "df = train\n",
    "df['day']=df['date'].apply(lambda x: x.strftime('%d'))\n",
    "df['day']=df['day'].astype('int64')\n",
    "df['month']=df['date'].apply(lambda x: x.strftime('%m'))\n",
    "df['month']=df['month'].astype('int64')\n",
    "df['year']=df['date'].apply(lambda x: x.strftime('%Y'))\n",
    "df['year']=df['year'].astype('int64')\n",
    "df = df[['day','month','year','item_id', 'shop_id','item_price','item_cnt_day']]\n",
    "#     df = df.pivot_table(index=['item_id', 'shop_id'], columns='date', values='item_cnt_day', fill_value=0).reset_index()\n",
    "#     count=df.iloc[:,2:]\n",
    "#     df['total']=count.sum(axis=1)\n",
    "data=df\n",
    "#data = pd.merge(val, df, on=['item_id', 'shop_id'], how='left').fillna(0)\n",
    "data['item_id'] = np.log1p(data['item_id'])"
   ]
  },
  {
   "cell_type": "code",
   "execution_count": 7,
   "metadata": {},
   "outputs": [],
   "source": [
    "train_date_info = data\n",
    "\n",
    "y_train_normal = train_date_info['item_cnt_day']\n",
    "x_train_normal = train_date_info.drop(labels=['item_cnt_day'], axis=1)\n",
    "\n",
    "x_train_val = x_train_normal[-100:]\n",
    "y_train_val = y_train_normal[-100:]"
   ]
  },
  {
   "cell_type": "code",
   "execution_count": null,
   "metadata": {},
   "outputs": [],
   "source": [
    "import time\n",
    "ts = time.time()\n",
    "# Use the random grid to search for best hyperparameters\n",
    "# First create the base model to tune\n",
    "rf = RandomForestRegressor(n_estimators=100,max_depth=20,random_state=50)\n",
    "# Random search of parameters, using 3 fold cross validation, \n",
    "# search across 100 different combinations, and use all available cores\n",
    "# rf_random = RandomizedSearchCV(estimator = rf, param_distributions = random_grid, cv = 3, verbose=2, random_state=42, n_jobs = -1)\n",
    "\n",
    "# Fit the random search model\n",
    "rf.fit(x_train_normal, y_train_normal)\n",
    "# reg = ExtraTreesRegressor(n_estimators=512, max_depth=20,random_state=50)\n",
    "# reg.fit(x_train, y_train)\n",
    "y_pre = rf.predict(x_train_normal)\n",
    "score = np.sqrt(mean_squared_error(y_train_normal, y_pre))\n",
    "print('RMSE cliped:', np.sqrt(mean_squared_error(y_train_normal.clip(0., 20.), y_pre.clip(0., 20.))))\n",
    "time.time() - ts"
   ]
  },
  {
   "cell_type": "code",
   "execution_count": null,
   "metadata": {},
   "outputs": [],
   "source": [
    "def pre_data(data_type, reg, x_test):\n",
    "    if reg is None:\n",
    "        reg = joblib.load('%s/%s_model_weight.model' % (out_path, data_type))\n",
    "    y_pre = reg.predict(x_test)\n",
    "    return y_pre"
   ]
  },
  {
   "cell_type": "code",
   "execution_count": null,
   "metadata": {},
   "outputs": [],
   "source": [
    "from sklearn import ensemble\n",
    "\n",
    "#reg = ensemble.ExtraTreesRegressor(n_estimators=25, n_jobs=-1, max_depth=15, random_state=42)\n",
    "reg = ensemble.GradientBoostingRegressor(n_estimators=1000, learning_rate=0.05, max_depth=3, \n",
    "                                            max_features='sqrt', loss='huber', random_state=42)\n",
    "#reg = xgb.XGBRegressor(n_estimators=1000, max_depth=4, learning_rate=0.05, subsample=0.6, colsample_bytree=0.6)\n",
    "#reg = xgb.XGBRegressor(n_estimators=25, max_depth=12, learning_rate=0.1, subsample=1, colsample_bytree=0.9, random_state=42, eval_metric='rmse')"
   ]
  },
  {
   "cell_type": "code",
   "execution_count": null,
   "metadata": {},
   "outputs": [],
   "source": [
    "# x1 = x_train_normal[x_train_normal['date_block_num'] < 33]\n",
    "# y1 = x1['item_cnt']\n",
    "# x1 = x1.drop(['item_cnt'], axis=1)\n",
    "\n",
    "# x2 = x_train_normal[x_train_normal['date_block_num'] == 33]\n",
    "# y2 = x2['item_cnt']\n",
    "# x2 = x2.drop(['item_cnt'], axis=1)\n",
    "\n",
    "reg.fit(x_train_normal, y_train_normal)\n",
    "pred_cnt = reg.predict(x_train_normal)\n",
    "print('RMSE:', np.sqrt(metrics.mean_squared_error(y_train_normal.clip(0.,20.), pred_cnt.clip(0.,20.))))"
   ]
  },
  {
   "cell_type": "code",
   "execution_count": null,
   "metadata": {},
   "outputs": [],
   "source": [
    "df = test\n",
    "df['day']=df['date'].apply(lambda x:x.strftime('%d'))\n",
    "df['day']=df['day'].astype('int64')\n",
    "df['month']=df['date'].apply(lambda x: x.strftime('%m'))\n",
    "df['month']=df['month'].astype('int64')\n",
    "df['year']=df['date'].apply(lambda x: x.strftime('%Y'))\n",
    "df['year']=df['year'].astype('int64')\n",
    "df = df[['day','month','year','item_id', 'shop_id','item_price']]\n",
    "data=df\n",
    "#data = pd.merge(val, df, on=['item_id', 'shop_id'], how='left').fillna(0)\n",
    "data['item_id'] = np.log1p(data['item_id'])\n",
    "test_x = data\n",
    "# test_x.columns = np.append(['shop_id', 'item_id'],np.arange(0, 36, 1))\n",
    "test_y_1 = pre_data('Tree_Regressor',rf, test_x)\n",
    "# test_y_2 = pre_data('light_gbm', light_gbm_model, test_x)\n",
    "# test_y_3 = pre_data('linear', linear_model, test_x)\n",
    "# test_y_4 = pre_data('xgb', xgb_model, test_x)\n",
    "test_y = test_y_1\n",
    "test.head()"
   ]
  },
  {
   "cell_type": "code",
   "execution_count": null,
   "metadata": {},
   "outputs": [],
   "source": [
    "test['item_cnt_day'] = test_y\n",
    "test[['ID', 'item_cnt_day']].to_csv('submission_Tree.csv', index=False)"
   ]
  },
  {
   "cell_type": "code",
   "execution_count": null,
   "metadata": {},
   "outputs": [],
   "source": []
  },
  {
   "cell_type": "code",
   "execution_count": null,
   "metadata": {},
   "outputs": [],
   "source": []
  }
 ],
 "metadata": {
  "kernelspec": {
   "display_name": "Python 3",
   "language": "python",
   "name": "python3"
  },
  "language_info": {
   "codemirror_mode": {
    "name": "ipython",
    "version": 3
   },
   "file_extension": ".py",
   "mimetype": "text/x-python",
   "name": "python",
   "nbconvert_exporter": "python",
   "pygments_lexer": "ipython3",
   "version": "3.6.6"
  }
 },
 "nbformat": 4,
 "nbformat_minor": 2
}
