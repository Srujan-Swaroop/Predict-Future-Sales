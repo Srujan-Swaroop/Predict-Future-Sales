{
 "cells": [
  {
   "cell_type": "code",
   "execution_count": 1,
   "metadata": {},
   "outputs": [
    {
     "name": "stdout",
     "output_type": "stream",
     "text": [
      "['sample_submission.csv', 'test.csv', 'README.md', 'train.csv', 'items.csv', 'shops.csv', 'item_categories.csv']\n"
     ]
    },
    {
     "name": "stderr",
     "output_type": "stream",
     "text": [
      "/usr/lib/python3.5/importlib/_bootstrap.py:222: RuntimeWarning: numpy.dtype size changed, may indicate binary incompatibility. Expected 96, got 88\n",
      "  return f(*args, **kwds)\n",
      "/usr/lib/python3.5/importlib/_bootstrap.py:222: RuntimeWarning: numpy.dtype size changed, may indicate binary incompatibility. Expected 96, got 88\n",
      "  return f(*args, **kwds)\n"
     ]
    }
   ],
   "source": [
    "import numpy as np\n",
    "import pandas as pd \n",
    "import os\n",
    "print(os.listdir(\"../input\"))"
   ]
  },
  {
   "cell_type": "code",
   "execution_count": 3,
   "metadata": {},
   "outputs": [
    {
     "name": "stdout",
     "output_type": "stream",
     "text": [
      "         date  date_block_num  shop_id  item_id  item_price  item_cnt_day  \\\n",
      "0  28.12.2014              23       25    12179  959.000000           1.0   \n",
      "1  23.04.2014              15       25    14042  149.000000           1.0   \n",
      "2  03.03.2014              14       12    11373  106.615385          13.0   \n",
      "\n",
      "        ID  \n",
      "0  2317582  \n",
      "1  1576962  \n",
      "2  1547382  \n",
      "<class 'pandas.core.frame.DataFrame'>\n",
      "RangeIndex: 2925849 entries, 0 to 2925848\n",
      "Data columns (total 7 columns):\n",
      "date              object\n",
      "date_block_num    int64\n",
      "shop_id           int64\n",
      "item_id           int64\n",
      "item_price        float64\n",
      "item_cnt_day      float64\n",
      "ID                int64\n",
      "dtypes: float64(2), int64(4), object(1)\n",
      "memory usage: 156.3+ MB\n"
     ]
    }
   ],
   "source": [
    "import pandas as pd\n",
    "import matplotlib.pyplot as plt\n",
    "import seaborn as sns\n",
    "import numpy as np\n",
    "import numpy.random as nr\n",
    "import math\n",
    "\n",
    "%matplotlib inline\n",
    "data = pd.read_csv('../input/train.csv')\n",
    "print(data.head(3))\n",
    "data.info()"
   ]
  },
  {
   "cell_type": "code",
   "execution_count": 4,
   "metadata": {},
   "outputs": [
    {
     "data": {
      "text/plain": [
       "-1.0     7221\n",
       "-2.0       78\n",
       "-3.0       13\n",
       "-5.0        4\n",
       "-4.0        3\n",
       "-6.0        2\n",
       "-22.0       1\n",
       "-9.0        1\n",
       "-16.0       1\n",
       "Name: item_cnt_day, dtype: int64"
      ]
     },
     "execution_count": 4,
     "metadata": {},
     "output_type": "execute_result"
    }
   ],
   "source": [
    "# Check for negative item_cnt_day \n",
    "data[data['item_cnt_day']<0]['item_cnt_day'].value_counts()"
   ]
  },
  {
   "cell_type": "code",
   "execution_count": 5,
   "metadata": {},
   "outputs": [
    {
     "data": {
      "text/plain": [
       "[<matplotlib.lines.Line2D at 0x7fed26f2b828>]"
      ]
     },
     "execution_count": 5,
     "metadata": {},
     "output_type": "execute_result"
    },
    {
     "data": {
      "image/png": "[encoded data removed]",
      "text/plain": [
       "<Figure size 432x288 with 1 Axes>"
      ]
     },
     "metadata": {},
     "output_type": "display_data"
    }
   ],
   "source": [
    "plt.plot(data[data['item_cnt_day']<0]['item_id'].value_counts().sort_index())"
   ]
  },
  {
   "cell_type": "code",
   "execution_count": 6,
   "metadata": {},
   "outputs": [
    {
     "name": "stdout",
     "output_type": "stream",
     "text": [
      "<class 'pandas.core.frame.DataFrame'>\n",
      "Int64Index: 2918525 entries, 0 to 2925848\n",
      "Data columns (total 7 columns):\n",
      "date              object\n",
      "date_block_num    int64\n",
      "shop_id           int64\n",
      "item_id           int64\n",
      "item_price        float64\n",
      "item_cnt_day      float64\n",
      "ID                int64\n",
      "dtypes: float64(2), int64(4), object(1)\n",
      "memory usage: 178.1+ MB\n"
     ]
    }
   ],
   "source": [
    "data_filtered=data.loc[data['item_cnt_day']>0]\n",
    "data_filtered.info()\n",
    "data=data_filtered"
   ]
  },
  {
   "cell_type": "code",
   "execution_count": 7,
   "metadata": {},
   "outputs": [
    {
     "data": {
      "text/html": [
       "<div>\n",
       "<style scoped>\n",
       "    .dataframe tbody tr th:only-of-type {\n",
       "        vertical-align: middle;\n",
       "    }\n",
       "\n",
       "    .dataframe tbody tr th {\n",
       "        vertical-align: top;\n",
       "    }\n",
       "\n",
       "    .dataframe thead th {\n",
       "        text-align: right;\n",
       "    }\n",
       "</style>\n",
       "<table border=\"1\" class=\"dataframe\">\n",
       "  <thead>\n",
       "    <tr style=\"text-align: right;\">\n",
       "      <th></th>\n",
       "      <th>item_name</th>\n",
       "      <th>item_id</th>\n",
       "      <th>item_category_id</th>\n",
       "    </tr>\n",
       "  </thead>\n",
       "  <tbody>\n",
       "    <tr>\n",
       "      <th>0</th>\n",
       "      <td>! ВО ВЛАСТИ НАВАЖДЕНИЯ (ПЛАСТ.)         D</td>\n",
       "      <td>0</td>\n",
       "      <td>40</td>\n",
       "    </tr>\n",
       "    <tr>\n",
       "      <th>1</th>\n",
       "      <td>!ABBYY FineReader 12 Professional Edition Full...</td>\n",
       "      <td>1</td>\n",
       "      <td>76</td>\n",
       "    </tr>\n",
       "    <tr>\n",
       "      <th>2</th>\n",
       "      <td>***В ЛУЧАХ СЛАВЫ   (UNV)                    D</td>\n",
       "      <td>2</td>\n",
       "      <td>40</td>\n",
       "    </tr>\n",
       "  </tbody>\n",
       "</table>\n",
       "</div>"
      ],
      "text/plain": [
       "                                           item_name  item_id  \\\n",
       "0          ! ВО ВЛАСТИ НАВАЖДЕНИЯ (ПЛАСТ.)         D        0   \n",
       "1  !ABBYY FineReader 12 Professional Edition Full...        1   \n",
       "2      ***В ЛУЧАХ СЛАВЫ   (UNV)                    D        2   \n",
       "\n",
       "   item_category_id  \n",
       "0                40  \n",
       "1                76  \n",
       "2                40  "
      ]
     },
     "execution_count": 7,
     "metadata": {},
     "output_type": "execute_result"
    }
   ],
   "source": [
    "item_categories = pd.read_csv('../input/items.csv')\n",
    "item_categories.head(3)"
   ]
  },
  {
   "cell_type": "code",
   "execution_count": 8,
   "metadata": {},
   "outputs": [
    {
     "data": {
      "text/html": [
       "<div>\n",
       "<style scoped>\n",
       "    .dataframe tbody tr th:only-of-type {\n",
       "        vertical-align: middle;\n",
       "    }\n",
       "\n",
       "    .dataframe tbody tr th {\n",
       "        vertical-align: top;\n",
       "    }\n",
       "\n",
       "    .dataframe thead th {\n",
       "        text-align: right;\n",
       "    }\n",
       "</style>\n",
       "<table border=\"1\" class=\"dataframe\">\n",
       "  <thead>\n",
       "    <tr style=\"text-align: right;\">\n",
       "      <th></th>\n",
       "      <th>date</th>\n",
       "      <th>date_block_num</th>\n",
       "      <th>shop_id</th>\n",
       "      <th>item_id</th>\n",
       "      <th>item_price</th>\n",
       "      <th>item_cnt_day</th>\n",
       "      <th>ID</th>\n",
       "      <th>item_name</th>\n",
       "      <th>item_category_id</th>\n",
       "    </tr>\n",
       "  </thead>\n",
       "  <tbody>\n",
       "    <tr>\n",
       "      <th>636591</th>\n",
       "      <td>01.01.2013</td>\n",
       "      <td>0</td>\n",
       "      <td>19</td>\n",
       "      <td>10658</td>\n",
       "      <td>599.0</td>\n",
       "      <td>2.0</td>\n",
       "      <td>10343</td>\n",
       "      <td>Головоломка Кубик Рубика 3х3</td>\n",
       "      <td>67</td>\n",
       "    </tr>\n",
       "    <tr>\n",
       "      <th>1961580</th>\n",
       "      <td>01.01.2013</td>\n",
       "      <td>0</td>\n",
       "      <td>54</td>\n",
       "      <td>7527</td>\n",
       "      <td>299.0</td>\n",
       "      <td>1.0</td>\n",
       "      <td>86555</td>\n",
       "      <td>V/A Романтические хиты  Best</td>\n",
       "      <td>55</td>\n",
       "    </tr>\n",
       "    <tr>\n",
       "      <th>2912669</th>\n",
       "      <td>01.01.2013</td>\n",
       "      <td>0</td>\n",
       "      <td>7</td>\n",
       "      <td>20481</td>\n",
       "      <td>949.0</td>\n",
       "      <td>1.0</td>\n",
       "      <td>55538</td>\n",
       "      <td>Фигурка Futurama Bender Super Heavyweights ник...</td>\n",
       "      <td>72</td>\n",
       "    </tr>\n",
       "  </tbody>\n",
       "</table>\n",
       "</div>"
      ],
      "text/plain": [
       "               date  date_block_num  shop_id  item_id  item_price  \\\n",
       "636591   01.01.2013               0       19    10658       599.0   \n",
       "1961580  01.01.2013               0       54     7527       299.0   \n",
       "2912669  01.01.2013               0        7    20481       949.0   \n",
       "\n",
       "         item_cnt_day     ID  \\\n",
       "636591            2.0  10343   \n",
       "1961580           1.0  86555   \n",
       "2912669           1.0  55538   \n",
       "\n",
       "                                                 item_name  item_category_id  \n",
       "636591                        Головоломка Кубик Рубика 3х3                67  \n",
       "1961580                       V/A Романтические хиты  Best                55  \n",
       "2912669  Фигурка Futurama Bender Super Heavyweights ник...                72  "
      ]
     },
     "execution_count": 8,
     "metadata": {},
     "output_type": "execute_result"
    }
   ],
   "source": [
    "dt=pd.merge(data, item_categories, how='inner')\n",
    "dt.sort_values(by=['date'], inplace=True)\n",
    "dt.head(3)"
   ]
  },
  {
   "cell_type": "code",
   "execution_count": 9,
   "metadata": {},
   "outputs": [
    {
     "data": {
      "text/html": [
       "<div>\n",
       "<style scoped>\n",
       "    .dataframe tbody tr th:only-of-type {\n",
       "        vertical-align: middle;\n",
       "    }\n",
       "\n",
       "    .dataframe tbody tr th {\n",
       "        vertical-align: top;\n",
       "    }\n",
       "\n",
       "    .dataframe thead th {\n",
       "        text-align: right;\n",
       "    }\n",
       "</style>\n",
       "<table border=\"1\" class=\"dataframe\">\n",
       "  <thead>\n",
       "    <tr style=\"text-align: right;\">\n",
       "      <th></th>\n",
       "      <th>date_block_num</th>\n",
       "      <th>shop_id</th>\n",
       "      <th>item_id</th>\n",
       "      <th>item_cnt_day</th>\n",
       "      <th>ID</th>\n",
       "      <th>item_category_id</th>\n",
       "    </tr>\n",
       "  </thead>\n",
       "  <tbody>\n",
       "    <tr>\n",
       "      <th>636591</th>\n",
       "      <td>0</td>\n",
       "      <td>19</td>\n",
       "      <td>10658</td>\n",
       "      <td>2.0</td>\n",
       "      <td>10343</td>\n",
       "      <td>67</td>\n",
       "    </tr>\n",
       "    <tr>\n",
       "      <th>1961580</th>\n",
       "      <td>0</td>\n",
       "      <td>54</td>\n",
       "      <td>7527</td>\n",
       "      <td>1.0</td>\n",
       "      <td>86555</td>\n",
       "      <td>55</td>\n",
       "    </tr>\n",
       "    <tr>\n",
       "      <th>2912669</th>\n",
       "      <td>0</td>\n",
       "      <td>7</td>\n",
       "      <td>20481</td>\n",
       "      <td>1.0</td>\n",
       "      <td>55538</td>\n",
       "      <td>72</td>\n",
       "    </tr>\n",
       "  </tbody>\n",
       "</table>\n",
       "</div>"
      ],
      "text/plain": [
       "         date_block_num  shop_id  item_id  item_cnt_day     ID  \\\n",
       "636591                0       19    10658           2.0  10343   \n",
       "1961580               0       54     7527           1.0  86555   \n",
       "2912669               0        7    20481           1.0  55538   \n",
       "\n",
       "         item_category_id  \n",
       "636591                 67  \n",
       "1961580                55  \n",
       "2912669                72  "
      ]
     },
     "execution_count": 9,
     "metadata": {},
     "output_type": "execute_result"
    }
   ],
   "source": [
    "## Drop column which is unused\n",
    "columns=['date','item_price','item_name']\n",
    "for c in columns:\n",
    "    if c in dt:\n",
    "        dt.drop(c, axis = 1, inplace = True)\n",
    "dt[(dt['item_cnt_day']>0)].head(3)"
   ]
  },
  {
   "cell_type": "code",
   "execution_count": 10,
   "metadata": {},
   "outputs": [],
   "source": [
    "\n",
    "#Group by 'date_block_num', 'shop_id','item_id' and \n",
    "#sum the item count per day to get the sum for each month (or date_block_num)\n",
    "\n",
    "dtf=dt.groupby(['date_block_num', 'shop_id','item_id'])[[\"item_cnt_day\"]].sum().reset_index()"
   ]
  },
  {
   "cell_type": "code",
   "execution_count": 11,
   "metadata": {},
   "outputs": [
    {
     "name": "stdout",
     "output_type": "stream",
     "text": [
      "20429675\n",
      "6418680\n"
     ]
    }
   ],
   "source": [
    "print(data.size)\n",
    "print(dtf.size)"
   ]
  },
  {
   "cell_type": "code",
   "execution_count": 12,
   "metadata": {},
   "outputs": [
    {
     "data": {
      "text/plain": [
       "<Figure size 432x288 with 0 Axes>"
      ]
     },
     "execution_count": 12,
     "metadata": {},
     "output_type": "execute_result"
    },
    {
     "data": {
      "image/png": "[encoded data removed]",
      "text/plain": [
       "<Figure size 1080x1440 with 4 Axes>"
      ]
     },
     "metadata": {},
     "output_type": "display_data"
    },
    {
     "data": {
      "text/plain": [
       "<Figure size 432x288 with 0 Axes>"
      ]
     },
     "metadata": {},
     "output_type": "display_data"
    }
   ],
   "source": [
    "dtf.hist(figsize=(15,20))\n",
    "plt.figure()"
   ]
  },
  {
   "cell_type": "code",
   "execution_count": 13,
   "metadata": {},
   "outputs": [
    {
     "data": {
      "text/plain": [
       "<Figure size 432x288 with 0 Axes>"
      ]
     },
     "execution_count": 13,
     "metadata": {},
     "output_type": "execute_result"
    },
    {
     "data": {
      "image/png": "[encoded data removed]",
      "text/plain": [
       "<Figure size 720x720 with 16 Axes>"
      ]
     },
     "metadata": {},
     "output_type": "display_data"
    },
    {
     "data": {
      "text/plain": [
       "<Figure size 432x288 with 0 Axes>"
      ]
     },
     "metadata": {},
     "output_type": "display_data"
    }
   ],
   "source": [
    "pd.plotting.scatter_matrix(dtf[['item_cnt_day','item_id','shop_id','date_block_num']],figsize=(10,10))\n",
    "plt.figure()"
   ]
  },
  {
   "cell_type": "code",
   "execution_count": 14,
   "metadata": {},
   "outputs": [
    {
     "data": {
      "text/html": [
       "<div>\n",
       "<style scoped>\n",
       "    .dataframe tbody tr th:only-of-type {\n",
       "        vertical-align: middle;\n",
       "    }\n",
       "\n",
       "    .dataframe tbody tr th {\n",
       "        vertical-align: top;\n",
       "    }\n",
       "\n",
       "    .dataframe thead th {\n",
       "        text-align: right;\n",
       "    }\n",
       "</style>\n",
       "<table border=\"1\" class=\"dataframe\">\n",
       "  <thead>\n",
       "    <tr style=\"text-align: right;\">\n",
       "      <th></th>\n",
       "      <th>date_block_num</th>\n",
       "      <th>shop_id</th>\n",
       "      <th>item_id</th>\n",
       "      <th>item_cnt_day</th>\n",
       "    </tr>\n",
       "  </thead>\n",
       "  <tbody>\n",
       "    <tr>\n",
       "      <th>222</th>\n",
       "      <td>0</td>\n",
       "      <td>0</td>\n",
       "      <td>2929</td>\n",
       "      <td>7.0</td>\n",
       "    </tr>\n",
       "    <tr>\n",
       "      <th>63282</th>\n",
       "      <td>1</td>\n",
       "      <td>0</td>\n",
       "      <td>2929</td>\n",
       "      <td>11.0</td>\n",
       "    </tr>\n",
       "  </tbody>\n",
       "</table>\n",
       "</div>"
      ],
      "text/plain": [
       "       date_block_num  shop_id  item_id  item_cnt_day\n",
       "222                 0        0     2929           7.0\n",
       "63282               1        0     2929          11.0"
      ]
     },
     "execution_count": 14,
     "metadata": {},
     "output_type": "execute_result"
    }
   ],
   "source": [
    "dtf[(dtf['item_id']==2929) & (dtf['shop_id']==0)]"
   ]
  },
  {
   "cell_type": "code",
   "execution_count": 15,
   "metadata": {},
   "outputs": [
    {
     "data": {
      "text/html": [
       "<div>\n",
       "<style scoped>\n",
       "    .dataframe tbody tr th:only-of-type {\n",
       "        vertical-align: middle;\n",
       "    }\n",
       "\n",
       "    .dataframe tbody tr th {\n",
       "        vertical-align: top;\n",
       "    }\n",
       "\n",
       "    .dataframe thead th {\n",
       "        text-align: right;\n",
       "    }\n",
       "</style>\n",
       "<table border=\"1\" class=\"dataframe\">\n",
       "  <thead>\n",
       "    <tr style=\"text-align: right;\">\n",
       "      <th></th>\n",
       "      <th>date_block_num</th>\n",
       "      <th>shop_id</th>\n",
       "      <th>item_id</th>\n",
       "      <th>item_cnt_day</th>\n",
       "      <th>ID</th>\n",
       "      <th>item_category_id</th>\n",
       "    </tr>\n",
       "  </thead>\n",
       "  <tbody>\n",
       "    <tr>\n",
       "      <th>1308212</th>\n",
       "      <td>1</td>\n",
       "      <td>0</td>\n",
       "      <td>2929</td>\n",
       "      <td>1.0</td>\n",
       "      <td>175283</td>\n",
       "      <td>30</td>\n",
       "    </tr>\n",
       "    <tr>\n",
       "      <th>1307977</th>\n",
       "      <td>0</td>\n",
       "      <td>0</td>\n",
       "      <td>2929</td>\n",
       "      <td>1.0</td>\n",
       "      <td>39684</td>\n",
       "      <td>30</td>\n",
       "    </tr>\n",
       "    <tr>\n",
       "      <th>1309030</th>\n",
       "      <td>1</td>\n",
       "      <td>0</td>\n",
       "      <td>2929</td>\n",
       "      <td>1.0</td>\n",
       "      <td>175282</td>\n",
       "      <td>30</td>\n",
       "    </tr>\n",
       "    <tr>\n",
       "      <th>1307940</th>\n",
       "      <td>0</td>\n",
       "      <td>0</td>\n",
       "      <td>2929</td>\n",
       "      <td>1.0</td>\n",
       "      <td>39686</td>\n",
       "      <td>30</td>\n",
       "    </tr>\n",
       "    <tr>\n",
       "      <th>1309244</th>\n",
       "      <td>1</td>\n",
       "      <td>0</td>\n",
       "      <td>2929</td>\n",
       "      <td>1.0</td>\n",
       "      <td>175281</td>\n",
       "      <td>30</td>\n",
       "    </tr>\n",
       "    <tr>\n",
       "      <th>1309571</th>\n",
       "      <td>0</td>\n",
       "      <td>0</td>\n",
       "      <td>2929</td>\n",
       "      <td>1.0</td>\n",
       "      <td>39699</td>\n",
       "      <td>30</td>\n",
       "    </tr>\n",
       "    <tr>\n",
       "      <th>1309640</th>\n",
       "      <td>1</td>\n",
       "      <td>0</td>\n",
       "      <td>2929</td>\n",
       "      <td>1.0</td>\n",
       "      <td>175280</td>\n",
       "      <td>30</td>\n",
       "    </tr>\n",
       "    <tr>\n",
       "      <th>1308166</th>\n",
       "      <td>1</td>\n",
       "      <td>0</td>\n",
       "      <td>2929</td>\n",
       "      <td>1.0</td>\n",
       "      <td>175279</td>\n",
       "      <td>30</td>\n",
       "    </tr>\n",
       "    <tr>\n",
       "      <th>1307842</th>\n",
       "      <td>0</td>\n",
       "      <td>0</td>\n",
       "      <td>2929</td>\n",
       "      <td>1.0</td>\n",
       "      <td>39687</td>\n",
       "      <td>30</td>\n",
       "    </tr>\n",
       "    <tr>\n",
       "      <th>1308851</th>\n",
       "      <td>1</td>\n",
       "      <td>0</td>\n",
       "      <td>2929</td>\n",
       "      <td>1.0</td>\n",
       "      <td>175278</td>\n",
       "      <td>30</td>\n",
       "    </tr>\n",
       "    <tr>\n",
       "      <th>1308284</th>\n",
       "      <td>0</td>\n",
       "      <td>0</td>\n",
       "      <td>2929</td>\n",
       "      <td>1.0</td>\n",
       "      <td>39688</td>\n",
       "      <td>30</td>\n",
       "    </tr>\n",
       "    <tr>\n",
       "      <th>1308067</th>\n",
       "      <td>1</td>\n",
       "      <td>0</td>\n",
       "      <td>2929</td>\n",
       "      <td>1.0</td>\n",
       "      <td>175277</td>\n",
       "      <td>30</td>\n",
       "    </tr>\n",
       "    <tr>\n",
       "      <th>1308339</th>\n",
       "      <td>1</td>\n",
       "      <td>0</td>\n",
       "      <td>2929</td>\n",
       "      <td>4.0</td>\n",
       "      <td>175284</td>\n",
       "      <td>30</td>\n",
       "    </tr>\n",
       "    <tr>\n",
       "      <th>1309674</th>\n",
       "      <td>0</td>\n",
       "      <td>0</td>\n",
       "      <td>2929</td>\n",
       "      <td>1.0</td>\n",
       "      <td>39689</td>\n",
       "      <td>30</td>\n",
       "    </tr>\n",
       "    <tr>\n",
       "      <th>1308505</th>\n",
       "      <td>0</td>\n",
       "      <td>0</td>\n",
       "      <td>2929</td>\n",
       "      <td>1.0</td>\n",
       "      <td>39690</td>\n",
       "      <td>30</td>\n",
       "    </tr>\n",
       "  </tbody>\n",
       "</table>\n",
       "</div>"
      ],
      "text/plain": [
       "         date_block_num  shop_id  item_id  item_cnt_day      ID  \\\n",
       "1308212               1        0     2929           1.0  175283   \n",
       "1307977               0        0     2929           1.0   39684   \n",
       "1309030               1        0     2929           1.0  175282   \n",
       "1307940               0        0     2929           1.0   39686   \n",
       "1309244               1        0     2929           1.0  175281   \n",
       "1309571               0        0     2929           1.0   39699   \n",
       "1309640               1        0     2929           1.0  175280   \n",
       "1308166               1        0     2929           1.0  175279   \n",
       "1307842               0        0     2929           1.0   39687   \n",
       "1308851               1        0     2929           1.0  175278   \n",
       "1308284               0        0     2929           1.0   39688   \n",
       "1308067               1        0     2929           1.0  175277   \n",
       "1308339               1        0     2929           4.0  175284   \n",
       "1309674               0        0     2929           1.0   39689   \n",
       "1308505               0        0     2929           1.0   39690   \n",
       "\n",
       "         item_category_id  \n",
       "1308212                30  \n",
       "1307977                30  \n",
       "1309030                30  \n",
       "1307940                30  \n",
       "1309244                30  \n",
       "1309571                30  \n",
       "1309640                30  \n",
       "1308166                30  \n",
       "1307842                30  \n",
       "1308851                30  \n",
       "1308284                30  \n",
       "1308067                30  \n",
       "1308339                30  \n",
       "1309674                30  \n",
       "1308505                30  "
      ]
     },
     "execution_count": 15,
     "metadata": {},
     "output_type": "execute_result"
    }
   ],
   "source": [
    "dt[(dt['item_id']==2929) & (dt['shop_id']==0)]"
   ]
  },
  {
   "cell_type": "code",
   "execution_count": 16,
   "metadata": {},
   "outputs": [
    {
     "data": {
      "text/plain": [
       "<BarContainer object of 60 artists>"
      ]
     },
     "execution_count": 16,
     "metadata": {},
     "output_type": "execute_result"
    },
    {
     "data": {
      "image/png": "[encoded data removed]",
      "text/plain": [
       "<Figure size 432x288 with 1 Axes>"
      ]
     },
     "metadata": {},
     "output_type": "display_data"
    }
   ],
   "source": [
    "test_shop_id=dt.groupby(['shop_id'])[[\"item_cnt_day\"]].sum().reset_index()\n",
    "test_shop_id.head()\n",
    "plt.bar(test_shop_id['shop_id'],test_shop_id [\"item_cnt_day\"])"
   ]
  },
  {
   "cell_type": "code",
   "execution_count": 17,
   "metadata": {},
   "outputs": [
    {
     "name": "stdout",
     "output_type": "stream",
     "text": [
      "count    21794.000000\n",
      "mean     11098.519317\n",
      "std       6396.860317\n",
      "min          0.000000\n",
      "25%       5551.250000\n",
      "50%      11104.500000\n",
      "75%      16646.750000\n",
      "max      22169.000000\n",
      "Name: item_id, dtype: float64\n",
      "5822     1\n",
      "17717    1\n",
      "3732     1\n",
      "20949    1\n",
      "2808     1\n",
      "Name: item_id, dtype: int64\n"
     ]
    },
    {
     "data": {
      "image/png": "[encoded data removed]",
      "text/plain": [
       "<Figure size 432x288 with 1 Axes>"
      ]
     },
     "metadata": {},
     "output_type": "display_data"
    }
   ],
   "source": [
    "\n",
    "#Analyze item_id outliers\n",
    "\n",
    "test_item_id=dt.groupby(['item_id'])[[\"item_cnt_day\"]].sum().reset_index()\n",
    "plt.plot(test_item_id[(test_item_id['item_id']!=20949)]['item_id'],test_item_id[(test_item_id['item_id']!=20949)] [\"item_cnt_day\"])\n",
    "plt.plot(test_item_id[(test_item_id['item_cnt_day']<=10000)]['item_id'],test_item_id[(test_item_id['item_cnt_day']<=10000)][\"item_cnt_day\"])\n",
    "\n",
    "print(test_item_id[(test_item_id['item_id']!=20949)]['item_id'].describe())\n",
    "print(test_item_id[(test_item_id['item_cnt_day']>12000)]['item_id'].value_counts())\n",
    "\n"
   ]
  },
  {
   "cell_type": "code",
   "execution_count": 18,
   "metadata": {},
   "outputs": [
    {
     "data": {
      "text/plain": [
       "[<matplotlib.lines.Line2D at 0x7fed1cb121d0>]"
      ]
     },
     "execution_count": 18,
     "metadata": {},
     "output_type": "execute_result"
    },
    {
     "data": {
      "image/png": "[encoded data removed]",
      "text/plain": [
       "<Figure size 432x288 with 1 Axes>"
      ]
     },
     "metadata": {},
     "output_type": "display_data"
    }
   ],
   "source": [
    "test_item_id=dt.groupby(['item_category_id'])[[\"item_cnt_day\"]].sum().reset_index()\n",
    "plt.plot(test_item_id['item_category_id'],test_item_id[\"item_cnt_day\"])"
   ]
  },
  {
   "cell_type": "code",
   "execution_count": 19,
   "metadata": {},
   "outputs": [
    {
     "name": "stdout",
     "output_type": "stream",
     "text": [
      "2446908\n"
     ]
    },
    {
     "data": {
      "image/png": "[encoded data removed]",
      "text/plain": [
       "<Figure size 432x288 with 1 Axes>"
      ]
     },
     "metadata": {},
     "output_type": "display_data"
    }
   ],
   "source": [
    "\n",
    "#Try to remove outliers (december months)\n",
    "\n",
    "plt.plot(dt.groupby(['date_block_num'])[[\"item_cnt_day\"]].sum())\n",
    "dt_filtered=dt.loc[(dt['date_block_num'] ==9) | (dt['date_block_num'] ==10) | (dt['date_block_num'] ==21)| (dt['date_block_num'] ==22) | (dt['date_block_num'] ==33)]\n",
    "print(dt_filtered.size)\n",
    "\n"
   ]
  },
  {
   "cell_type": "code",
   "execution_count": 20,
   "metadata": {},
   "outputs": [
    {
     "data": {
      "text/plain": [
       "10    96163\n",
       "9     93622\n",
       "22    85953\n",
       "21    78883\n",
       "33    53197\n",
       "Name: date_block_num, dtype: int64"
      ]
     },
     "execution_count": 20,
     "metadata": {},
     "output_type": "execute_result"
    }
   ],
   "source": [
    "dt_filtered['date_block_num'].value_counts()"
   ]
  },
  {
   "cell_type": "code",
   "execution_count": 21,
   "metadata": {},
   "outputs": [
    {
     "name": "stdout",
     "output_type": "stream",
     "text": [
      "0    225702\n",
      "1    182116\n",
      "Name: date_block_num, dtype: int64\n",
      "1.0    189785\n",
      "2.0    164836\n",
      "3.0     53197\n",
      "Name: year, dtype: int64\n"
     ]
    }
   ],
   "source": [
    "pd.options.mode.chained_assignment = None  # default='warn'\n",
    "\n",
    "idx=dt_filtered.loc[(dt_filtered['date_block_num'] ==9)].index.values\n",
    "dt_filtered.at[idx,'date_block_num']=0\n",
    "dt_filtered.at[idx,'year']=1\n",
    "\n",
    "idx=dt_filtered.loc[(dt_filtered['date_block_num'] ==10)].index.values\n",
    "dt_filtered.at[idx,'date_block_num']=1\n",
    "dt_filtered.at[idx,'year']=1\n",
    "\n",
    "idx=dt_filtered.loc[(dt_filtered['date_block_num'] ==21)].index.values\n",
    "dt_filtered.at[idx,'date_block_num']=0\n",
    "dt_filtered.at[idx,'year']=2\n",
    "\n",
    "idx=dt_filtered.loc[(dt_filtered['date_block_num'] ==22)].index.values\n",
    "dt_filtered.at[idx,'date_block_num']=1\n",
    "dt_filtered.at[idx,'year']=2\n",
    "\n",
    "idx=dt_filtered.loc[(dt_filtered['date_block_num'] ==33)].index.values\n",
    "dt_filtered.at[idx,'date_block_num']=0\n",
    "dt_filtered.at[idx,'year']=3\n",
    "print(dt_filtered['date_block_num'].value_counts())\n",
    "print(dt_filtered['year'].value_counts())"
   ]
  },
  {
   "cell_type": "code",
   "execution_count": 22,
   "metadata": {},
   "outputs": [
    {
     "name": "stdout",
     "output_type": "stream",
     "text": [
      "         date_block_num  shop_id  item_id  item_cnt_day       ID  \\\n",
      "1088328               0       55     2381           1.0   957288   \n",
      "168366                0       31     7071           1.0   948033   \n",
      "783252                0       19     3183           1.0  1000847   \n",
      "2215571               0       57    21566           1.0   992975   \n",
      "109330                0       30    21377           1.0   964044   \n",
      "\n",
      "         item_category_id  year  \n",
      "1088328                31   1.0  \n",
      "168366                 19   1.0  \n",
      "783252                 30   1.0  \n",
      "2215571                40   1.0  \n",
      "109330                 40   1.0  \n"
     ]
    },
    {
     "data": {
      "image/png": "[encoded data removed]",
      "text/plain": [
       "<Figure size 432x288 with 1 Axes>"
      ]
     },
     "metadata": {},
     "output_type": "display_data"
    }
   ],
   "source": [
    "plt.plot(dt_filtered.groupby(['date_block_num'])[[\"item_cnt_day\"]].sum())\n",
    "print(dt_filtered.head())"
   ]
  },
  {
   "cell_type": "code",
   "execution_count": 23,
   "metadata": {},
   "outputs": [],
   "source": [
    "dt_filtered.to_csv('sales_train_trans_filtered.csv', sep=',',index=False)"
   ]
  },
  {
   "cell_type": "code",
   "execution_count": 24,
   "metadata": {},
   "outputs": [],
   "source": [
    "dt.to_csv('sales_train_trans.csv', sep=',',index=False)"
   ]
  },
  {
   "cell_type": "code",
   "execution_count": 25,
   "metadata": {},
   "outputs": [
    {
     "data": {
      "text/html": [
       "<div>\n",
       "<style scoped>\n",
       "    .dataframe tbody tr th:only-of-type {\n",
       "        vertical-align: middle;\n",
       "    }\n",
       "\n",
       "    .dataframe tbody tr th {\n",
       "        vertical-align: top;\n",
       "    }\n",
       "\n",
       "    .dataframe thead th {\n",
       "        text-align: right;\n",
       "    }\n",
       "</style>\n",
       "<table border=\"1\" class=\"dataframe\">\n",
       "  <thead>\n",
       "    <tr style=\"text-align: right;\">\n",
       "      <th></th>\n",
       "      <th>date</th>\n",
       "      <th>date_block_num</th>\n",
       "      <th>shop_id</th>\n",
       "      <th>item_id</th>\n",
       "      <th>item_price</th>\n",
       "      <th>ID</th>\n",
       "    </tr>\n",
       "  </thead>\n",
       "  <tbody>\n",
       "    <tr>\n",
       "      <th>0</th>\n",
       "      <td>06.02.2015</td>\n",
       "      <td>25</td>\n",
       "      <td>31</td>\n",
       "      <td>11208</td>\n",
       "      <td>699.0</td>\n",
       "      <td>2472142</td>\n",
       "    </tr>\n",
       "    <tr>\n",
       "      <th>1</th>\n",
       "      <td>21.11.2013</td>\n",
       "      <td>10</td>\n",
       "      <td>31</td>\n",
       "      <td>19525</td>\n",
       "      <td>149.0</td>\n",
       "      <td>1044690</td>\n",
       "    </tr>\n",
       "    <tr>\n",
       "      <th>2</th>\n",
       "      <td>03.01.2015</td>\n",
       "      <td>24</td>\n",
       "      <td>42</td>\n",
       "      <td>16169</td>\n",
       "      <td>299.0</td>\n",
       "      <td>2367559</td>\n",
       "    </tr>\n",
       "  </tbody>\n",
       "</table>\n",
       "</div>"
      ],
      "text/plain": [
       "         date  date_block_num  shop_id  item_id  item_price       ID\n",
       "0  06.02.2015              25       31    11208       699.0  2472142\n",
       "1  21.11.2013              10       31    19525       149.0  1044690\n",
       "2  03.01.2015              24       42    16169       299.0  2367559"
      ]
     },
     "execution_count": 25,
     "metadata": {},
     "output_type": "execute_result"
    }
   ],
   "source": [
    "\n",
    "#Prepare test data : adding category column\n",
    "\n",
    "sales_test = pd.read_csv('../input/test.csv')\n",
    "sales_test.head(3)\n",
    "\n"
   ]
  },
  {
   "cell_type": "code",
   "execution_count": 26,
   "metadata": {},
   "outputs": [
    {
     "data": {
      "text/html": [
       "<div>\n",
       "<style scoped>\n",
       "    .dataframe tbody tr th:only-of-type {\n",
       "        vertical-align: middle;\n",
       "    }\n",
       "\n",
       "    .dataframe tbody tr th {\n",
       "        vertical-align: top;\n",
       "    }\n",
       "\n",
       "    .dataframe thead th {\n",
       "        text-align: right;\n",
       "    }\n",
       "</style>\n",
       "<table border=\"1\" class=\"dataframe\">\n",
       "  <thead>\n",
       "    <tr style=\"text-align: right;\">\n",
       "      <th></th>\n",
       "      <th>date</th>\n",
       "      <th>date_block_num</th>\n",
       "      <th>shop_id</th>\n",
       "      <th>item_id</th>\n",
       "      <th>item_price</th>\n",
       "      <th>ID</th>\n",
       "      <th>item_name</th>\n",
       "      <th>item_category_id</th>\n",
       "    </tr>\n",
       "  </thead>\n",
       "  <tbody>\n",
       "    <tr>\n",
       "      <th>3034</th>\n",
       "      <td>07.01.2013</td>\n",
       "      <td>0</td>\n",
       "      <td>25</td>\n",
       "      <td>2920</td>\n",
       "      <td>599.0</td>\n",
       "      <td>83</td>\n",
       "      <td>Disney. LEGO Пираты Карибского моря (Essential...</td>\n",
       "      <td>21</td>\n",
       "    </tr>\n",
       "    <tr>\n",
       "      <th>5466</th>\n",
       "      <td>06.01.2013</td>\n",
       "      <td>0</td>\n",
       "      <td>25</td>\n",
       "      <td>2330</td>\n",
       "      <td>599.0</td>\n",
       "      <td>808</td>\n",
       "      <td>Call of Duty: Black Ops [PC, Jewel, русская ве...</td>\n",
       "      <td>30</td>\n",
       "    </tr>\n",
       "    <tr>\n",
       "      <th>5729</th>\n",
       "      <td>22.01.2013</td>\n",
       "      <td>0</td>\n",
       "      <td>25</td>\n",
       "      <td>4791</td>\n",
       "      <td>799.0</td>\n",
       "      <td>1172</td>\n",
       "      <td>Max Payne 3 [PC, русские субтитры]</td>\n",
       "      <td>28</td>\n",
       "    </tr>\n",
       "  </tbody>\n",
       "</table>\n",
       "</div>"
      ],
      "text/plain": [
       "            date  date_block_num  shop_id  item_id  item_price    ID  \\\n",
       "3034  07.01.2013               0       25     2920       599.0    83   \n",
       "5466  06.01.2013               0       25     2330       599.0   808   \n",
       "5729  22.01.2013               0       25     4791       799.0  1172   \n",
       "\n",
       "                                              item_name  item_category_id  \n",
       "3034  Disney. LEGO Пираты Карибского моря (Essential...                21  \n",
       "5466  Call of Duty: Black Ops [PC, Jewel, русская ве...                30  \n",
       "5729                 Max Payne 3 [PC, русские субтитры]                28  "
      ]
     },
     "execution_count": 26,
     "metadata": {},
     "output_type": "execute_result"
    }
   ],
   "source": [
    "sales_test1=pd.merge(sales_test, item_categories, how='inner')\n",
    "sales_test1.sort_values(by=['ID'], inplace=True)\n",
    "sales_test1.head(3)"
   ]
  },
  {
   "cell_type": "code",
   "execution_count": 27,
   "metadata": {},
   "outputs": [
    {
     "data": {
      "text/plain": [
       "31    870\n",
       "25    615\n",
       "28    502\n",
       "54    501\n",
       "57    399\n",
       "27    382\n",
       "42    380\n",
       "6     284\n",
       "58    252\n",
       "50    238\n",
       "56    233\n",
       "46    216\n",
       "7     209\n",
       "21    208\n",
       "19    204\n",
       "35    204\n",
       "15    200\n",
       "16    186\n",
       "26    186\n",
       "30    186\n",
       "47    185\n",
       "53    183\n",
       "24    178\n",
       "18    169\n",
       "38    162\n",
       "51    161\n",
       "43    154\n",
       "29    148\n",
       "41    144\n",
       "5     144\n",
       "44    143\n",
       "22    143\n",
       "37    141\n",
       "59    137\n",
       "4     129\n",
       "52    121\n",
       "14    113\n",
       "55    111\n",
       "45     99\n",
       "12     90\n",
       "10     81\n",
       "2      78\n",
       "17     74\n",
       "3      70\n",
       "48     59\n",
       "13     59\n",
       "49     45\n",
       "39     44\n",
       "0      31\n",
       "34     25\n",
       "32     22\n",
       "23     20\n",
       "1      19\n",
       "33     17\n",
       "40     17\n",
       "9      15\n",
       "8       7\n",
       "20      6\n",
       "36      1\n",
       "Name: shop_id, dtype: int64"
      ]
     },
     "execution_count": 27,
     "metadata": {},
     "output_type": "execute_result"
    }
   ],
   "source": [
    "sales_test1['shop_id'].value_counts()"
   ]
  },
  {
   "cell_type": "code",
   "execution_count": 28,
   "metadata": {},
   "outputs": [
    {
     "name": "stdout",
     "output_type": "stream",
     "text": [
      "<class 'pandas.core.frame.DataFrame'>\n",
      "Int64Index: 10000 entries, 3034 to 252\n",
      "Data columns (total 8 columns):\n",
      "date                10000 non-null object\n",
      "date_block_num      10000 non-null int64\n",
      "shop_id             10000 non-null int64\n",
      "item_id             10000 non-null int64\n",
      "item_price          10000 non-null float64\n",
      "ID                  10000 non-null int64\n",
      "item_name           10000 non-null object\n",
      "item_category_id    10000 non-null int64\n",
      "dtypes: float64(1), int64(5), object(2)\n",
      "memory usage: 703.1+ KB\n"
     ]
    }
   ],
   "source": [
    "sales_test1.info()"
   ]
  },
  {
   "cell_type": "code",
   "execution_count": 29,
   "metadata": {},
   "outputs": [
    {
     "data": {
      "text/plain": [
       "date                0\n",
       "date_block_num      0\n",
       "shop_id             0\n",
       "item_id             0\n",
       "item_price          0\n",
       "ID                  0\n",
       "item_name           0\n",
       "item_category_id    0\n",
       "dtype: int64"
      ]
     },
     "execution_count": 29,
     "metadata": {},
     "output_type": "execute_result"
    }
   ],
   "source": [
    "sales_test1.isnull().sum()"
   ]
  },
  {
   "cell_type": "code",
   "execution_count": 30,
   "metadata": {},
   "outputs": [
    {
     "data": {
      "text/plain": [
       "4812"
      ]
     },
     "execution_count": 30,
     "metadata": {},
     "output_type": "execute_result"
    }
   ],
   "source": [
    "sales_test1['item_id'].value_counts().count()"
   ]
  },
  {
   "cell_type": "code",
   "execution_count": 31,
   "metadata": {},
   "outputs": [
    {
     "data": {
      "text/plain": [
       "69"
      ]
     },
     "execution_count": 31,
     "metadata": {},
     "output_type": "execute_result"
    }
   ],
   "source": [
    "sales_test1['item_category_id'].value_counts().count()"
   ]
  },
  {
   "cell_type": "code",
   "execution_count": 32,
   "metadata": {},
   "outputs": [
    {
     "data": {
      "text/plain": [
       "84"
      ]
     },
     "execution_count": 32,
     "metadata": {},
     "output_type": "execute_result"
    }
   ],
   "source": [
    "dt['item_category_id'].value_counts().count()"
   ]
  },
  {
   "cell_type": "code",
   "execution_count": 33,
   "metadata": {},
   "outputs": [
    {
     "data": {
      "text/plain": [
       "[0, 1, 36, 68, 10, 74, 46, 48, 18, 50, 51, 52, 53, 26, 27]"
      ]
     },
     "execution_count": 33,
     "metadata": {},
     "output_type": "execute_result"
    }
   ],
   "source": [
    "\n",
    "##Item_category_id that can be removed\n",
    "\n",
    "#pd.concat([pd.unique(sales_test1['item_category_id']),pd.unique(sales_test1['item_category_id'])]).drop_duplicates(keep=False)\n",
    "#print(\"sales_test1['item_category_id']-->\",pd.unique(sales_test1['item_category_id']))\n",
    "#print(\"dt['item_category_id']-->\",pd.unique(dt['item_category_id']))\n",
    "#print(\"concatenate-->\", np.concatenate((pd.unique(sales_test1['item_category_id']),pd.unique(dt['item_category_id'])),axis=0))\n",
    "np.unique(np.concatenate((pd.unique(sales_test1['item_category_id']),pd.unique(dt['item_category_id'])),axis=0))\n",
    "\n",
    "a=set(pd.unique(dt['item_category_id']));\n",
    "b=set(pd.unique(sales_test1['item_category_id']));\n",
    "\n",
    "list(a-b)\n",
    "\n"
   ]
  },
  {
   "cell_type": "code",
   "execution_count": 34,
   "metadata": {},
   "outputs": [],
   "source": [
    "sales_test1.drop('item_name', axis = 1, inplace = True)\n",
    "sales_test1.to_csv('sales_test1.csv', sep=',',index=False)"
   ]
  },
  {
   "cell_type": "code",
   "execution_count": null,
   "metadata": {},
   "outputs": [],
   "source": []
  }
 ],
 "metadata": {
  "kernelspec": {
   "display_name": "Python 3",
   "language": "python",
   "name": "python3"
  },
  "language_info": {
   "codemirror_mode": {
    "name": "ipython",
    "version": 3
   },
   "file_extension": ".py",
   "mimetype": "text/x-python",
   "name": "python",
   "nbconvert_exporter": "python",
   "pygments_lexer": "ipython3",
   "version": "3.5.2"
  }
 },
 "nbformat": 4,
 "nbformat_minor": 2
}
